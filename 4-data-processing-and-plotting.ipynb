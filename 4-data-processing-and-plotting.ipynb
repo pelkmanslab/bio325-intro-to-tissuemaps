{
 "cells": [
  {
   "cell_type": "markdown",
   "metadata": {},
   "source": [
    "<a rel=\"license\" href=\"http://creativecommons.org/licenses/by-sa/4.0/\"><img alt=\"Creative Commons License\" style=\"border-width:0\" src=\"https://i.creativecommons.org/l/by-sa/4.0/80x15.png\" /></a><div align=\"center\">This work is licensed under a <a rel=\"license\" href=\"http://creativecommons.org/licenses/by-sa/4.0/\">Creative Commons Attribution-ShareAlike 4.0 International License</a>.</div>"
   ]
  },
  {
   "cell_type": "markdown",
   "metadata": {},
   "source": [
    "# Data Analysis with Pandas\n",
    "\n",
    "[Pandas](https://pandas.pydata.org/) is an open source, BSD-licensed library providing high-performance, easy-to-use data structures and data analysis tools for the Python programming language."
   ]
  },
  {
   "cell_type": "markdown",
   "metadata": {},
   "source": [
    "We are going to use data produced by TissueMAPS.  If you have not yet done it, please download the feature values from TissueMAPS into a file in the current directory by running the following command in a terminal (substitute `172.23.X.Y` with the actual server IP address):\n",
    "\n",
    "```\n",
    "tm_client --host 172.23.X.Y --port 1000 --user tissuemaps --password bio325uzh \\\n",
    "  experiment -e BIO325_CRISPR_Yap feauture-values download Cells $PWD\n",
    "```\n",
    "\n",
    "**Note:** the above command has to be on *one single* terminal command-line."
   ]
  },
  {
   "cell_type": "markdown",
   "metadata": {},
   "source": [
    "The `tm_client` invocation should produce two sets of 4 `.csv` files each:\n",
    "```\n",
    "BIO325_CRISPR_Yap_p1_D07_Cells_metadata.csv\n",
    "BIO325_CRISPR_Yap_p1_D08_Cells_metadata.csv\n",
    "BIO325_CRISPR_Yap_p1_D09_Cells_metadata.csv\n",
    "BIO325_CRISPR_Yap_p1_D10_Cells_metadata.csv\n",
    "BIO325_CRISPR_Yap_p1_D07_Cells_feature-values.csv\n",
    "BIO325_CRISPR_Yap_p1_D08_Cells_feature-values.csv\n",
    "BIO325_CRISPR_Yap_p1_D09_Cells_feature-values.csv\n",
    "BIO325_CRISPR_Yap_p1_D20_Cells_feature-values.csv\n",
    "```\n",
    "\n",
    "Each *metadata* CSV file contains basic data about every cell that TissueMAPS was able to detect in a given plate well (\"D07\", \"D08\", \"D09\", \"D10\").\n",
    "\n",
    "Each *feature-values* CSV file contains additional measurements about the same cells performed by TissueMAPS in the \"Jterator\" pipeline; *feature-values* files are also divided per well.\n",
    "\n",
    "We can use PanDas to inspect the contents of these files and perform some statistics and plotting."
   ]
  },
  {
   "cell_type": "markdown",
   "metadata": {},
   "source": [
    "## Preamble\n",
    "\n",
    "Before using PanDas, we must import it.  PanDas depends on NumPy and can interchange data with it, so let's import both of them using abbreviated names."
   ]
  },
  {
   "cell_type": "code",
   "execution_count": null,
   "metadata": {},
   "outputs": [],
   "source": [
    "import numpy as np\n",
    "import pandas as pd"
   ]
  },
  {
   "cell_type": "markdown",
   "metadata": {},
   "source": [
    "Evaluating the following cell allows us to display plots *in* the Python notebook:"
   ]
  },
  {
   "cell_type": "code",
   "execution_count": null,
   "metadata": {},
   "outputs": [],
   "source": [
    "%matplotlib inline\n",
    "\n",
    "import matplotlib.pyplot as plt\n",
    "import seaborn as sns\n",
    "\n",
    "# make large figures so we can appreciate details\n",
    "plt.rc('figure', figsize=(20.0, 15.0))"
   ]
  },
  {
   "cell_type": "markdown",
   "metadata": {},
   "source": [
    "## Load data"
   ]
  },
  {
   "cell_type": "markdown",
   "metadata": {},
   "source": [
    "We can use Panda's `read_csv()` function to read a CSV file into a Python data structure: "
   ]
  },
  {
   "cell_type": "code",
   "execution_count": null,
   "metadata": {},
   "outputs": [],
   "source": [
    "# \"metadata\" file for well D10\n",
    "md10 = pd.read_csv(\"BIO325_CRISPR_Yap_p1_D10_Cells_metadata.csv\")"
   ]
  },
  {
   "cell_type": "code",
   "execution_count": null,
   "metadata": {},
   "outputs": [],
   "source": [
    "# \"feature values\" for well D10\n",
    "fv10 = pd.read_csv('BIO325_CRISPR_Yap_p1_D10_Cells_feature-values.csv')"
   ]
  },
  {
   "cell_type": "markdown",
   "metadata": {},
   "source": [
    "The return object from `read_csv()` is a `DataFrame` object, which displays nicely in the notebook as tabular data:"
   ]
  },
  {
   "cell_type": "code",
   "execution_count": null,
   "metadata": {},
   "outputs": [],
   "source": [
    "md10[:5]  # display the first 5 rows"
   ]
  },
  {
   "cell_type": "markdown",
   "metadata": {},
   "source": [
    "Note that the first row of the CSV file was used to name the column, not to provide actual data."
   ]
  },
  {
   "cell_type": "markdown",
   "metadata": {},
   "source": [
    "## Access table data"
   ]
  },
  {
   "cell_type": "markdown",
   "metadata": {},
   "source": [
    "A `DataFrame` object as a `.shape` attribute like any 2D NumPy array:"
   ]
  },
  {
   "cell_type": "code",
   "execution_count": null,
   "metadata": {},
   "outputs": [],
   "source": [
    "md10.shape"
   ]
  },
  {
   "cell_type": "markdown",
   "metadata": {},
   "source": [
    "The above shows that our table has 30764 rows across 11 columns.  \n",
    "\n",
    "**Note: *row index comes first!*** (This will be important when accessing data with numerical indices below.)"
   ]
  },
  {
   "cell_type": "markdown",
   "metadata": {},
   "source": [
    "### Read entire columns"
   ]
  },
  {
   "cell_type": "markdown",
   "metadata": {},
   "source": [
    "You can get an *entire column* out of the table, by using Python's `[]` notation with the column name:"
   ]
  },
  {
   "cell_type": "code",
   "execution_count": null,
   "metadata": {},
   "outputs": [],
   "source": [
    "labels = md10['label']"
   ]
  },
  {
   "cell_type": "code",
   "execution_count": null,
   "metadata": {},
   "outputs": [],
   "source": [
    "labels[:5] # print first 5 label values"
   ]
  },
  {
   "cell_type": "markdown",
   "metadata": {},
   "source": [
    "A column of a PanDas `DataFrame` is a `pandas.Series` object, which closely resembles a NumPy array.\n",
    "\n",
    "You can use all normal Python and NumPy array methods on it."
   ]
  },
  {
   "cell_type": "code",
   "execution_count": null,
   "metadata": {},
   "outputs": [],
   "source": [
    "len(labels)"
   ]
  },
  {
   "cell_type": "code",
   "execution_count": null,
   "metadata": {},
   "outputs": [],
   "source": [
    "sum(labels)"
   ]
  },
  {
   "cell_type": "code",
   "execution_count": null,
   "metadata": {},
   "outputs": [],
   "source": [
    "unique_labels = np.unique(labels)"
   ]
  },
  {
   "cell_type": "code",
   "execution_count": null,
   "metadata": {},
   "outputs": [],
   "source": [
    "len(unique_labels)"
   ]
  },
  {
   "cell_type": "markdown",
   "metadata": {},
   "source": [
    "### Read entire rows"
   ]
  },
  {
   "cell_type": "markdown",
   "metadata": {},
   "source": [
    "A single row can be accessed using the [`.loc[]` operator](https://pandas.pydata.org/pandas-docs/stable/generated/pandas.DataFrame.loc.html):"
   ]
  },
  {
   "cell_type": "code",
   "execution_count": null,
   "metadata": {},
   "outputs": [],
   "source": [
    "row2 = md10.loc[2]; print(row2)"
   ]
  },
  {
   "cell_type": "markdown",
   "metadata": {},
   "source": [
    "Each row acts as special array, where you can access items by column name *or* by position:"
   ]
  },
  {
   "cell_type": "code",
   "execution_count": null,
   "metadata": {},
   "outputs": [],
   "source": [
    "row2['well_name']"
   ]
  },
  {
   "cell_type": "code",
   "execution_count": null,
   "metadata": {},
   "outputs": [],
   "source": [
    "row2[2]"
   ]
  },
  {
   "cell_type": "markdown",
   "metadata": {},
   "source": [
    "## Quick computation of basic statistical quantities"
   ]
  },
  {
   "cell_type": "markdown",
   "metadata": {},
   "source": [
    "**Note:** Depending on whether you have renamed the channels or not, you might have to substitute the following\n",
    "strings in the column names _(no renaming -> renamed)_:\n",
    "```\n",
    "A02_C01 -> DAPI\n",
    "A01_C02 -> Succs\n",
    "A01_C03 -> Yap\n",
    "A02_C04 -> marker\n",
    "```"
   ]
  },
  {
   "cell_type": "markdown",
   "metadata": {},
   "source": [
    "A `DataFrame`'s `.describe()` method provides a quick statistical summary of the data (but only for *continuous* variables):"
   ]
  },
  {
   "cell_type": "code",
   "execution_count": null,
   "metadata": {
    "scrolled": true
   },
   "outputs": [],
   "source": [
    "stat = fv10['Intensity_mean_A01_C03'].describe()\n",
    "\n",
    "print(stat)"
   ]
  },
  {
   "cell_type": "markdown",
   "metadata": {},
   "source": [
    "Note that the value returned by `.describe()` is again a kind of \"row\" object, and you can access individual fields with the `[]` operator:"
   ]
  },
  {
   "cell_type": "code",
   "execution_count": null,
   "metadata": {},
   "outputs": [],
   "source": [
    "stat['mean'] + stat['std']"
   ]
  },
  {
   "cell_type": "markdown",
   "metadata": {},
   "source": [
    "You can compute the very same values (and many others!) by directly applying a NumPy function to the column:"
   ]
  },
  {
   "cell_type": "code",
   "execution_count": null,
   "metadata": {},
   "outputs": [],
   "source": [
    "# compute the median\n",
    "np.median(fv10['Intensity_mean_A01_C03'])"
   ]
  },
  {
   "cell_type": "code",
   "execution_count": null,
   "metadata": {},
   "outputs": [],
   "source": [
    "# compute the average of the log intensity\n",
    "np.mean(np.log(fv10['Intensity_mean_A01_C03']))"
   ]
  },
  {
   "cell_type": "markdown",
   "metadata": {},
   "source": [
    "Note that if a categorical variable (e.g., a yes/no flag) is encoded using numerical values (e.g., `0` and `1`), then PanDas will still happily provide a statistical summary, like it were a continuous variable, but it will *not* be much useful:"
   ]
  },
  {
   "cell_type": "code",
   "execution_count": null,
   "metadata": {},
   "outputs": [],
   "source": [
    "md10['TPlus'].describe()"
   ]
  },
  {
   "cell_type": "markdown",
   "metadata": {},
   "source": [
    "-----"
   ]
  },
  {
   "cell_type": "markdown",
   "metadata": {},
   "source": [
    "## Exercise 1.\n",
    "\n",
    "Load \"metadata\" files into tables `md07`, `md08`, `md09`, and `md10`.\n",
    "\n",
    "Then load \"feature values\" files into tables `fv07`, `fv08`, `fv09`, and `fv10`.\n",
    "\n",
    "How many rows are in each table?"
   ]
  },
  {
   "cell_type": "code",
   "execution_count": null,
   "metadata": {},
   "outputs": [],
   "source": [
    "# your solution here"
   ]
  },
  {
   "cell_type": "markdown",
   "metadata": {},
   "source": [
    "## Exercise 2.\n",
    "\n",
    "What is the mean value of column `Intensity_mean_A01_C03` in each well?"
   ]
  },
  {
   "cell_type": "code",
   "execution_count": null,
   "metadata": {},
   "outputs": [],
   "source": [
    "# your solution here"
   ]
  },
  {
   "cell_type": "markdown",
   "metadata": {},
   "source": [
    "## Exercise 3.\n",
    "\n",
    "How many unique values are in column `TPlus` in the metadata of each well?\n",
    "*(Requires some familiary with NumPy)*"
   ]
  },
  {
   "cell_type": "code",
   "execution_count": null,
   "metadata": {},
   "outputs": [],
   "source": [
    "# your solution here"
   ]
  },
  {
   "cell_type": "markdown",
   "metadata": {},
   "source": [
    "## Exercise 4.\n",
    "\n",
    "The `is_border` column in a \"metadata\" table tells you whether a cell lies at the border of an acquisition site or not (1 = lies at the border, 0 = does not touch nor cross the border).\n",
    "\n",
    "Can you count the number of \"border\" cells in each well?"
   ]
  },
  {
   "cell_type": "code",
   "execution_count": null,
   "metadata": {},
   "outputs": [],
   "source": [
    "# your solution here"
   ]
  },
  {
   "cell_type": "markdown",
   "metadata": {},
   "source": [
    "-----"
   ]
  },
  {
   "cell_type": "markdown",
   "metadata": {},
   "source": [
    "## Join tabular data\n",
    "\n",
    "There are two ways of joining tables:\n",
    "\n",
    "- we may want to \"stack\" one table on top of another: this is only possible if the tables have the same columns, and is accomplished with PanDas' function [concat()](https://pandas.pydata.org/pandas-docs/stable/merging.html#concatenating-objects), or\n",
    "\n",
    "- we may want to form a new table by \"joining\" rows that have some value (called a *key*) in common; this is accomplished by a `DataFrame` [`.merge()` method](https://pandas.pydata.org/pandas-docs/stable/generated/pandas.DataFrame.merge.html)"
   ]
  },
  {
   "cell_type": "markdown",
   "metadata": {},
   "source": [
    "### \"Stacking\" tables\n",
    "\n",
    "Stacking tables is accomplished with PanDas' function [concat()](https://pandas.pydata.org/pandas-docs/stable/merging.html#concatenating-objects), which takes a unique argument: a *list* of tables to stack one on top of the other."
   ]
  },
  {
   "cell_type": "code",
   "execution_count": null,
   "metadata": {},
   "outputs": [],
   "source": [
    "md = pd.concat([md07, md08, md09, md10])"
   ]
  },
  {
   "cell_type": "code",
   "execution_count": null,
   "metadata": {},
   "outputs": [],
   "source": [
    "fv = pd.concat([fv07, fv08, fv09, fv10])"
   ]
  },
  {
   "cell_type": "markdown",
   "metadata": {},
   "source": [
    "### Joining by rows\n",
    "\n",
    "The [`.merge()` method](https://pandas.pydata.org/pandas-docs/stable/generated/pandas.DataFrame.merge.html) allows making a new table out of two existing tables with a set of common columns.  The syntax is as follows:\n",
    "```\n",
    "new_table = table1.merge(table2, how, on=[list of column names])\n",
    "```\n",
    "\n",
    "For example:"
   ]
  },
  {
   "cell_type": "code",
   "execution_count": null,
   "metadata": {},
   "outputs": [],
   "source": [
    "merged10 = md10.merge(fv10, how='inner', on=['mapobject_id'])"
   ]
  },
  {
   "cell_type": "code",
   "execution_count": null,
   "metadata": {},
   "outputs": [],
   "source": [
    "merged10.head()"
   ]
  },
  {
   "cell_type": "markdown",
   "metadata": {},
   "source": [
    "Parameter *how* has the following possible values:\n",
    "\n",
    "* `'inner'`: merge rows where both tables agree on the value of the common columns;\n",
    "* `'left'`: take _all_ rows from `table1`, fill in null values if there's no row in `table2` which agrees on the common columns;\n",
    "* `'right'`: same as `'left'` but with the roles of `table1` and `table2` interchanged;\n",
    "* `'outer'`: take _all_ rows, fill in null values when row of one table cannot be matched.\n",
    "\n",
    "If you know databases, this is exactly the same semantics of [SQL's JOIN keyword](https://www.w3schools.com/sql/sql_join.asp)"
   ]
  },
  {
   "cell_type": "markdown",
   "metadata": {},
   "source": [
    "## Make sub-tables\n",
    "\n",
    "The [`.loc[]` operator](https://pandas.pydata.org/pandas-docs/stable/generated/pandas.DataFrame.loc.html) can be used to extract sub-tables, by specifying the rows and columns to extract:\n",
    "```\n",
    "sub = data.loc[rows, columns]\n",
    "```\n",
    "here `rows` and `columns` can be:\n",
    "\n",
    "- *lists* of row numbers (e.g., `[1,2,3]`) or column names (e.g., `['a', 'c']`), \n",
    "- *ranges* (e.g., `1:10`),\n",
    "- or **selectors** (which we'll explain in a while)"
   ]
  },
  {
   "cell_type": "markdown",
   "metadata": {},
   "source": [
    "For example:"
   ]
  },
  {
   "cell_type": "code",
   "execution_count": null,
   "metadata": {},
   "outputs": [],
   "source": [
    "md10.loc[[1,3,5,7], ['well_name', 'label', 'is_border']]"
   ]
  },
  {
   "cell_type": "markdown",
   "metadata": {},
   "source": [
    "**Note:** the `.loc[]` operator does *not copy* the table data -- so any modification to the sub-table will be reflected on the parent table.  Use `.loc[...].copy()` to create an independent sub-table."
   ]
  },
  {
   "cell_type": "markdown",
   "metadata": {},
   "source": [
    "## Selectors\n",
    "\n",
    "Selectors are logical expressions on a column (or row) of a table."
   ]
  },
  {
   "cell_type": "code",
   "execution_count": null,
   "metadata": {},
   "outputs": [],
   "source": [
    "# select all objects in well D10 with numerical label 42\n",
    "label42 = (md10['label'] == 42)"
   ]
  },
  {
   "cell_type": "code",
   "execution_count": null,
   "metadata": {},
   "outputs": [],
   "source": [
    "# select all objects whose mean intensity in the DAPI channel is over 1 sigma from the avg \n",
    "dapi_plus1s = (fv10['Nuclei_Intensity_mean_A02_C01'] > 259.69)"
   ]
  },
  {
   "cell_type": "markdown",
   "metadata": {},
   "source": [
    "You can use selectors to extract a sub-table out of an existing one."
   ]
  },
  {
   "cell_type": "code",
   "execution_count": null,
   "metadata": {},
   "outputs": [],
   "source": [
    "# only data about cell labeled 42\n",
    "table_only_label42 = md10.loc[label42]"
   ]
  },
  {
   "cell_type": "code",
   "execution_count": null,
   "metadata": {},
   "outputs": [],
   "source": [
    "len(table_only_label42)"
   ]
  },
  {
   "cell_type": "code",
   "execution_count": null,
   "metadata": {},
   "outputs": [],
   "source": [
    "table_only_label42.head()"
   ]
  },
  {
   "cell_type": "markdown",
   "metadata": {},
   "source": [
    "-----"
   ]
  },
  {
   "cell_type": "markdown",
   "metadata": {},
   "source": [
    "## Exercise 5. \n",
    "\n",
    "Make stacked tables:\n",
    "\n",
    "- `md`, combining metadata for all wells\n",
    "- `fv`, combining feature values for all wells"
   ]
  },
  {
   "cell_type": "code",
   "execution_count": null,
   "metadata": {},
   "outputs": [],
   "source": [
    "# your solution here"
   ]
  },
  {
   "cell_type": "markdown",
   "metadata": {},
   "source": [
    "## Exercise 6.\n",
    "\n",
    "Make a single large table `all` by joining tables `md` and `fv` over the common column `mapobject_id`.\n",
    "\n",
    "How many rows are in the combined table?"
   ]
  },
  {
   "cell_type": "code",
   "execution_count": null,
   "metadata": {},
   "outputs": [],
   "source": [
    "# your solution here"
   ]
  },
  {
   "cell_type": "markdown",
   "metadata": {},
   "source": [
    "## Exercise 7.\n",
    "\n",
    "Make a table `good` by extracting from `all` only rows which refer to objects that are *not* \"border\" objects.\n",
    "\n",
    "How many good objects are there?  \n",
    "\n",
    "*Bonus points:* could you compute this number from the selector alone?"
   ]
  },
  {
   "cell_type": "code",
   "execution_count": null,
   "metadata": {},
   "outputs": [],
   "source": [
    "# your solution"
   ]
  },
  {
   "cell_type": "markdown",
   "metadata": {},
   "source": [
    "## Exercise 8.\n",
    "\n",
    "Make two tables `md0` and `md1` by splitting on the two values of column `TPlus` (`0` or `1`).\n",
    "What is the mean of column `Intensity_mean_A01_C03` in each table?  And the std deviation?"
   ]
  },
  {
   "cell_type": "code",
   "execution_count": null,
   "metadata": {},
   "outputs": [],
   "source": [
    "# your solution"
   ]
  },
  {
   "cell_type": "markdown",
   "metadata": {},
   "source": [
    "-----"
   ]
  },
  {
   "cell_type": "markdown",
   "metadata": {},
   "source": [
    "# Plotting\n",
    "\n",
    "The [seaborn](https://seaborn.pydata.org/examples/index.html) library provides many convenient plotting functions; there are good chances that the plot you want to make is already implemented by Seaborn."
   ]
  },
  {
   "cell_type": "markdown",
   "metadata": {},
   "source": [
    "## Distribution plots (with kernel density estimates)\n",
    "\n",
    "Seaborn's function [distplot()](https://seaborn.pydata.org/generated/seaborn.distplot.html#seaborn.distplot) plots the frequency distribution of an array of values.\n",
    "\n",
    "The simplest use just passes an array of values (e.g., a `DataFrame` column) as the unique argument:"
   ]
  },
  {
   "cell_type": "code",
   "execution_count": null,
   "metadata": {},
   "outputs": [],
   "source": [
    "sns.distplot(fv10['Intensity_mean_A01_C03'])"
   ]
  },
  {
   "cell_type": "markdown",
   "metadata": {},
   "source": [
    "The plot ink color can be specified with the additional parameter `color=`:"
   ]
  },
  {
   "cell_type": "code",
   "execution_count": null,
   "metadata": {},
   "outputs": [],
   "source": [
    "sns.distplot(fv10['Nuclei_Intensity_mean_A02_C01'], color='orange')"
   ]
  },
  {
   "cell_type": "markdown",
   "metadata": {},
   "source": [
    "-----"
   ]
  },
  {
   "cell_type": "markdown",
   "metadata": {},
   "source": [
    "## Exercise 9.\n",
    "\n",
    "Make a distribution plots of the mean Intensity of the *Yap* channel for each of the wells D07, D08, D09, D10. Plot each well in a different color."
   ]
  },
  {
   "cell_type": "markdown",
   "metadata": {},
   "source": [
    "-----"
   ]
  },
  {
   "cell_type": "markdown",
   "metadata": {},
   "source": [
    "## Box plots\n",
    "\n",
    "Box plots are provided by [Seaborn function violinplot()](https://seaborn.pydata.org/generated/seaborn.boxplot.html#seaborn.violinplot).  The syntax of the `violinplot()` function we are going to use is the following:\n",
    "```\n",
    "boxplot(data=..., x=..., y=..., hue=...)\n",
    "```\n",
    "where the named arguments have the following meaning:\n",
    "- `data` is a table (PanDas `DataFrame`)\n",
    "- `x` is the *name of a column* of `data` where to draw the x-axis values from; this should be a categorical variable.\n",
    "- `y` is again the *name of a column* whose distribution detemines the parameters of the box and handles; `y` should name a continuous variable.\n",
    "\n",
    "The following are optional:\n",
    "- `hue` is again the *name of a column* of `data` (carrying a categorical variable): if supplied, for each value of `x`, a box+handles of a different color (\"hue\") will be drawn for each value of `hue`. In other words, by supplying `hue` you can make boxplots of 3D-data `(x,y,hue)`.\n",
    "- `ax` used for placing a plot on a specific \"subplot\""
   ]
  },
  {
   "cell_type": "code",
   "execution_count": null,
   "metadata": {},
   "outputs": [],
   "source": [
    "# Initialize the matplotlib figure\n",
    "fig, ax = plt.subplots(1, figsize=(4, 3))\n",
    "\n",
    "sns.boxplot(data=merged2, x='well_name', hue='TPlus', y='Intensity_mean_A01_C03', ax=ax)"
   ]
  },
  {
   "cell_type": "markdown",
   "metadata": {},
   "source": [
    "-----"
   ]
  },
  {
   "cell_type": "markdown",
   "metadata": {},
   "source": [
    "## Exercise 10.\n",
    "\n",
    "Make a 2x2 grid of plots, showing box plots of the mean Intensity of the *Yap* channel for each of the wells D07, D08, D09, D10."
   ]
  },
  {
   "cell_type": "markdown",
   "metadata": {},
   "source": [
    "-----"
   ]
  },
  {
   "cell_type": "markdown",
   "metadata": {},
   "source": [
    "## Violin plots\n",
    "\n",
    "Violin plots are provided by [Seaborn function violinplot()](https://seaborn.pydata.org/generated/seaborn.violinplot.html#seaborn.violinplot).  Producing a (useful) violin plot requires specifying quite some parameters; the syntax of the `violinplot()` function we are going to use is the following:\n",
    "```\n",
    "violinplot(data=..., x=..., y=..., hue=..., split=..., inner=...)\n",
    "```\n",
    "where the named arguments have the following meaning:\n",
    "- `data` is a table (PanDas `DataFrame`)\n",
    "- `x` is the *name of a column* of `data` where to draw the x-axis values from; this should be a categorical variable.\n",
    "- `y` is again the *name of a column* whose distribution will be plotted to make the countour of the \"violins\"; `y` should name a continuous variable."
   ]
  },
  {
   "cell_type": "markdown",
   "metadata": {},
   "source": [
    "The following are optional:\n",
    "- `hue` is again the *name of a column* of `data` (carrying a categorical variable): if supplied, for each value of `x`, a violin of a different color (\"hue\") will be drawn for each value of `hue`. In other words, by supplying `hue` you can make violin plots of 3D-data `(x,y,hue)`.\n",
    "- `split`: if `True` and `hue` is the name of a discrete variable with 2 values, then, for each `x`, each half of the violin plots the `y` values corresponding to the different `hue`.\n",
    "- `inner`: can be one of:\n",
    "  * `'quartiles'`: mark the quartiles of the distribution\n",
    "  * `'box'` make a miniature box plot inside the violin\n",
    "  * `'point'` mark each data point\n",
    "  * `None`: no inner decoration of the \"violins\""
   ]
  },
  {
   "cell_type": "code",
   "execution_count": null,
   "metadata": {},
   "outputs": [],
   "source": [
    "sns.violinplot(data=merged2, x='well_name', y='Intensity_mean_A01_C03', hue='TPlus')"
   ]
  },
  {
   "cell_type": "markdown",
   "metadata": {},
   "source": [
    "-----"
   ]
  },
  {
   "cell_type": "markdown",
   "metadata": {},
   "source": [
    "## Exercise 11.\n",
    "\n",
    "Make a violin plot comparing the distribution of *mean Intensity* for channel *A01_C03* side-by-side for cells with TPlus=0 and TPlus=1."
   ]
  },
  {
   "cell_type": "markdown",
   "metadata": {},
   "source": [
    "## Exercise 12.\n",
    "\n",
    "Make a 2x2 grid of the above violin plots, allowing to compare across wells."
   ]
  },
  {
   "cell_type": "markdown",
   "metadata": {},
   "source": [
    "-----"
   ]
  }
 ],
 "metadata": {
  "anaconda-cloud": {},
  "kernelspec": {
   "display_name": "Python 3",
   "language": "python",
   "name": "python3"
  },
  "language_info": {
   "codemirror_mode": {
    "name": "ipython",
    "version": 3
   },
   "file_extension": ".py",
   "mimetype": "text/x-python",
   "name": "python",
   "nbconvert_exporter": "python",
   "pygments_lexer": "ipython3",
   "version": "3.6.4"
  }
 },
 "nbformat": 4,
 "nbformat_minor": 2
}
