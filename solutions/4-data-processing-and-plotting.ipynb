{
 "cells": [
  {
   "cell_type": "markdown",
   "metadata": {
    "slideshow": {
     "slide_type": "skip"
    }
   },
   "source": [
    "<a rel=\"license\" href=\"http://creativecommons.org/licenses/by-sa/4.0/\"><img alt=\"Creative Commons License\" style=\"border-width:0\" src=\"https://i.creativecommons.org/l/by-sa/4.0/80x15.png\" /></a><div align=\"center\">This work is licensed under a <a rel=\"license\" href=\"http://creativecommons.org/licenses/by-sa/4.0/\">Creative Commons Attribution-ShareAlike 4.0 International License</a>.</div>"
   ]
  },
  {
   "cell_type": "markdown",
   "metadata": {
    "slideshow": {
     "slide_type": "slide"
    }
   },
   "source": [
    "# Data Analysis with Pandas\n",
    "\n",
    "[Pandas](https://pandas.pydata.org/) is an open source, BSD-licensed library providing high-performance, easy-to-use data structures and data analysis tools for the Python programming language."
   ]
  },
  {
   "cell_type": "markdown",
   "metadata": {
    "slideshow": {
     "slide_type": "slide"
    }
   },
   "source": [
    "We are going to use data produced by TissueMAPS.  If you have not yet done it, please download the feature values from TissueMAPS into a file in the current directory by running the following command in a terminal (substitute `172.23.X.Y` with the actual server IP address):\n",
    "\n",
    "```\n",
    "tm_client --host 172.23.X.Y --port 1000 --user tissuemaps --password bio325uzh \\\n",
    "  experiment -e BIO325_CRISPR_Yap feauture-values download Cells $PWD\n",
    "```\n",
    "\n",
    "**Note:** the above command has to be on *one single* terminal command-line."
   ]
  },
  {
   "cell_type": "markdown",
   "metadata": {
    "slideshow": {
     "slide_type": "slide"
    }
   },
   "source": [
    "The `tm_client` invocation should produce two sets of 4 `.csv` files each:\n",
    "```\n",
    "BIO325_CRISPR_Yap_p1_D07_Cells_metadata.csv\n",
    "BIO325_CRISPR_Yap_p1_D08_Cells_metadata.csv\n",
    "BIO325_CRISPR_Yap_p1_D09_Cells_metadata.csv\n",
    "BIO325_CRISPR_Yap_p1_D10_Cells_metadata.csv\n",
    "BIO325_CRISPR_Yap_p1_D07_Cells_feature-values.csv\n",
    "BIO325_CRISPR_Yap_p1_D08_Cells_feature-values.csv\n",
    "BIO325_CRISPR_Yap_p1_D09_Cells_feature-values.csv\n",
    "BIO325_CRISPR_Yap_p1_D20_Cells_feature-values.csv\n",
    "```\n",
    "\n",
    "Each *metadata* CSV file contains basic data about every cell that TissueMAPS was able to detect in a given plate well (\"D07\", \"D08\", \"D09\", \"D10\").\n",
    "\n",
    "Each *feature-values* CSV file contains additional measurements about the same cells performed by TissueMAPS in the \"Jterator\" pipeline; *feature-values* files are also divided per well.\n",
    "\n",
    "We can use PanDas to inspect the contents of these files and perform some statistics and plotting."
   ]
  },
  {
   "cell_type": "markdown",
   "metadata": {
    "slideshow": {
     "slide_type": "slide"
    }
   },
   "source": [
    "## Preamble\n",
    "\n",
    "Before using PanDas, we must import it.  PanDas depends on NumPy and can interchange data with it, so let's import both of them using abbreviated names."
   ]
  },
  {
   "cell_type": "code",
   "execution_count": 1,
   "metadata": {},
   "outputs": [],
   "source": [
    "import numpy as np\n",
    "import pandas as pd"
   ]
  },
  {
   "cell_type": "markdown",
   "metadata": {},
   "source": [
    "Evaluating the following cell allows us to display plots *in* the Python notebook:"
   ]
  },
  {
   "cell_type": "code",
   "execution_count": 2,
   "metadata": {},
   "outputs": [],
   "source": [
    "%matplotlib inline\n",
    "\n",
    "import matplotlib.pyplot as plt\n",
    "import seaborn as sns\n",
    "\n",
    "# make large figures so we can appreciate details\n",
    "plt.rc('figure', figsize=(20.0, 15.0))"
   ]
  },
  {
   "cell_type": "markdown",
   "metadata": {
    "slideshow": {
     "slide_type": "subslide"
    }
   },
   "source": [
    "## Load data"
   ]
  },
  {
   "cell_type": "markdown",
   "metadata": {},
   "source": [
    "We can use Panda's `read_csv()` function to read a CSV file into a Python data structure: "
   ]
  },
  {
   "cell_type": "code",
   "execution_count": 3,
   "metadata": {},
   "outputs": [],
   "source": [
    "# \"metadata\" file for well D10\n",
    "md10 = pd.read_csv(\"BIO325_CRISPR_Yap_p1_D10_Cells_metadata.csv\")"
   ]
  },
  {
   "cell_type": "code",
   "execution_count": 4,
   "metadata": {},
   "outputs": [],
   "source": [
    "# \"feature values\" for well D10\n",
    "fv10 = pd.read_csv('BIO325_CRISPR_Yap_p1_D10_Cells_feature-values.csv')"
   ]
  },
  {
   "cell_type": "markdown",
   "metadata": {
    "slideshow": {
     "slide_type": "subslide"
    }
   },
   "source": [
    "The return object from `read_csv()` is a `DataFrame` object, which displays nicely in the notebook as tabular data:"
   ]
  },
  {
   "cell_type": "code",
   "execution_count": 5,
   "metadata": {},
   "outputs": [
    {
     "data": {
      "text/html": [
       "<div>\n",
       "<style scoped>\n",
       "    .dataframe tbody tr th:only-of-type {\n",
       "        vertical-align: middle;\n",
       "    }\n",
       "\n",
       "    .dataframe tbody tr th {\n",
       "        vertical-align: top;\n",
       "    }\n",
       "\n",
       "    .dataframe thead th {\n",
       "        text-align: right;\n",
       "    }\n",
       "</style>\n",
       "<table border=\"1\" class=\"dataframe\">\n",
       "  <thead>\n",
       "    <tr style=\"text-align: right;\">\n",
       "      <th></th>\n",
       "      <th>mapobject_id</th>\n",
       "      <th>plate_name</th>\n",
       "      <th>well_name</th>\n",
       "      <th>well_pos_y</th>\n",
       "      <th>well_pos_x</th>\n",
       "      <th>tpoint</th>\n",
       "      <th>zplane</th>\n",
       "      <th>label</th>\n",
       "      <th>is_border</th>\n",
       "      <th>Classification-5</th>\n",
       "      <th>TPlus</th>\n",
       "    </tr>\n",
       "  </thead>\n",
       "  <tbody>\n",
       "    <tr>\n",
       "      <th>0</th>\n",
       "      <td>491297</td>\n",
       "      <td>p1</td>\n",
       "      <td>D10</td>\n",
       "      <td>0</td>\n",
       "      <td>0</td>\n",
       "      <td>0</td>\n",
       "      <td>0</td>\n",
       "      <td>1</td>\n",
       "      <td>1</td>\n",
       "      <td>0.0</td>\n",
       "      <td>0.0</td>\n",
       "    </tr>\n",
       "    <tr>\n",
       "      <th>1</th>\n",
       "      <td>491298</td>\n",
       "      <td>p1</td>\n",
       "      <td>D10</td>\n",
       "      <td>0</td>\n",
       "      <td>0</td>\n",
       "      <td>0</td>\n",
       "      <td>0</td>\n",
       "      <td>2</td>\n",
       "      <td>1</td>\n",
       "      <td>0.0</td>\n",
       "      <td>0.0</td>\n",
       "    </tr>\n",
       "    <tr>\n",
       "      <th>2</th>\n",
       "      <td>491299</td>\n",
       "      <td>p1</td>\n",
       "      <td>D10</td>\n",
       "      <td>0</td>\n",
       "      <td>0</td>\n",
       "      <td>0</td>\n",
       "      <td>0</td>\n",
       "      <td>3</td>\n",
       "      <td>1</td>\n",
       "      <td>0.0</td>\n",
       "      <td>0.0</td>\n",
       "    </tr>\n",
       "    <tr>\n",
       "      <th>3</th>\n",
       "      <td>491300</td>\n",
       "      <td>p1</td>\n",
       "      <td>D10</td>\n",
       "      <td>0</td>\n",
       "      <td>0</td>\n",
       "      <td>0</td>\n",
       "      <td>0</td>\n",
       "      <td>4</td>\n",
       "      <td>1</td>\n",
       "      <td>0.0</td>\n",
       "      <td>0.0</td>\n",
       "    </tr>\n",
       "    <tr>\n",
       "      <th>4</th>\n",
       "      <td>491301</td>\n",
       "      <td>p1</td>\n",
       "      <td>D10</td>\n",
       "      <td>0</td>\n",
       "      <td>0</td>\n",
       "      <td>0</td>\n",
       "      <td>0</td>\n",
       "      <td>5</td>\n",
       "      <td>1</td>\n",
       "      <td>0.0</td>\n",
       "      <td>0.0</td>\n",
       "    </tr>\n",
       "  </tbody>\n",
       "</table>\n",
       "</div>"
      ],
      "text/plain": [
       "   mapobject_id plate_name well_name  well_pos_y  well_pos_x  tpoint  zplane  \\\n",
       "0        491297         p1       D10           0           0       0       0   \n",
       "1        491298         p1       D10           0           0       0       0   \n",
       "2        491299         p1       D10           0           0       0       0   \n",
       "3        491300         p1       D10           0           0       0       0   \n",
       "4        491301         p1       D10           0           0       0       0   \n",
       "\n",
       "   label  is_border  Classification-5  TPlus  \n",
       "0      1          1               0.0    0.0  \n",
       "1      2          1               0.0    0.0  \n",
       "2      3          1               0.0    0.0  \n",
       "3      4          1               0.0    0.0  \n",
       "4      5          1               0.0    0.0  "
      ]
     },
     "execution_count": 5,
     "metadata": {},
     "output_type": "execute_result"
    }
   ],
   "source": [
    "md10[:5]  # display the first 5 rows"
   ]
  },
  {
   "cell_type": "markdown",
   "metadata": {},
   "source": [
    "Note that the first row of the CSV file was used to name the column, not to provide actual data."
   ]
  },
  {
   "cell_type": "markdown",
   "metadata": {
    "slideshow": {
     "slide_type": "slide"
    }
   },
   "source": [
    "## Access table data"
   ]
  },
  {
   "cell_type": "markdown",
   "metadata": {},
   "source": [
    "A `DataFrame` object as a `.shape` attribute like any 2D NumPy array:"
   ]
  },
  {
   "cell_type": "code",
   "execution_count": 6,
   "metadata": {},
   "outputs": [
    {
     "data": {
      "text/plain": [
       "(30764, 11)"
      ]
     },
     "execution_count": 6,
     "metadata": {},
     "output_type": "execute_result"
    }
   ],
   "source": [
    "md10.shape"
   ]
  },
  {
   "cell_type": "markdown",
   "metadata": {},
   "source": [
    "The above shows that our table has 30764 rows across 11 columns.  \n",
    "\n",
    "**Note: *row index comes first!*** (This will be important when accessing data with numerical indices below.)"
   ]
  },
  {
   "cell_type": "markdown",
   "metadata": {
    "slideshow": {
     "slide_type": "slide"
    }
   },
   "source": [
    "### Read entire columns"
   ]
  },
  {
   "cell_type": "markdown",
   "metadata": {},
   "source": [
    "You can get an *entire column* out of the table, by using Python's `[]` notation with the column name:"
   ]
  },
  {
   "cell_type": "code",
   "execution_count": 7,
   "metadata": {},
   "outputs": [],
   "source": [
    "labels = md10['label']"
   ]
  },
  {
   "cell_type": "code",
   "execution_count": 8,
   "metadata": {},
   "outputs": [
    {
     "data": {
      "text/plain": [
       "0    1\n",
       "1    2\n",
       "2    3\n",
       "3    4\n",
       "4    5\n",
       "Name: label, dtype: int64"
      ]
     },
     "execution_count": 8,
     "metadata": {},
     "output_type": "execute_result"
    }
   ],
   "source": [
    "labels[:5] # print first 5 label values"
   ]
  },
  {
   "cell_type": "markdown",
   "metadata": {
    "slideshow": {
     "slide_type": "slide"
    }
   },
   "source": [
    "A column of a PanDas `DataFrame` is a `pandas.Series` object, which closely resembles a NumPy array.\n",
    "\n",
    "You can use all normal Python and NumPy array methods on it."
   ]
  },
  {
   "cell_type": "code",
   "execution_count": 9,
   "metadata": {},
   "outputs": [
    {
     "data": {
      "text/plain": [
       "30764"
      ]
     },
     "execution_count": 9,
     "metadata": {},
     "output_type": "execute_result"
    }
   ],
   "source": [
    "len(labels)"
   ]
  },
  {
   "cell_type": "code",
   "execution_count": 10,
   "metadata": {},
   "outputs": [
    {
     "data": {
      "text/plain": [
       "19209762"
      ]
     },
     "execution_count": 10,
     "metadata": {},
     "output_type": "execute_result"
    }
   ],
   "source": [
    "sum(labels)"
   ]
  },
  {
   "cell_type": "code",
   "execution_count": 11,
   "metadata": {},
   "outputs": [],
   "source": [
    "unique_labels = np.unique(labels)"
   ]
  },
  {
   "cell_type": "code",
   "execution_count": 12,
   "metadata": {},
   "outputs": [
    {
     "data": {
      "text/plain": [
       "1504"
      ]
     },
     "execution_count": 12,
     "metadata": {},
     "output_type": "execute_result"
    }
   ],
   "source": [
    "len(unique_labels)"
   ]
  },
  {
   "cell_type": "markdown",
   "metadata": {
    "slideshow": {
     "slide_type": "slide"
    }
   },
   "source": [
    "### Read entire rows"
   ]
  },
  {
   "cell_type": "markdown",
   "metadata": {},
   "source": [
    "A single row can be accessed using the [`.loc[]` operator](https://pandas.pydata.org/pandas-docs/stable/generated/pandas.DataFrame.loc.html):"
   ]
  },
  {
   "cell_type": "code",
   "execution_count": 13,
   "metadata": {},
   "outputs": [
    {
     "name": "stdout",
     "output_type": "stream",
     "text": [
      "mapobject_id        491299\n",
      "plate_name              p1\n",
      "well_name              D10\n",
      "well_pos_y               0\n",
      "well_pos_x               0\n",
      "tpoint                   0\n",
      "zplane                   0\n",
      "label                    3\n",
      "is_border                1\n",
      "Classification-5         0\n",
      "TPlus                    0\n",
      "Name: 2, dtype: object\n"
     ]
    }
   ],
   "source": [
    "row2 = md10.loc[2]; print(row2)"
   ]
  },
  {
   "cell_type": "markdown",
   "metadata": {
    "slideshow": {
     "slide_type": "slide"
    }
   },
   "source": [
    "Each row acts as special array, where you can access items by column name *or* by position:"
   ]
  },
  {
   "cell_type": "code",
   "execution_count": 14,
   "metadata": {},
   "outputs": [
    {
     "data": {
      "text/plain": [
       "'D10'"
      ]
     },
     "execution_count": 14,
     "metadata": {},
     "output_type": "execute_result"
    }
   ],
   "source": [
    "row2['well_name']"
   ]
  },
  {
   "cell_type": "code",
   "execution_count": 15,
   "metadata": {},
   "outputs": [
    {
     "data": {
      "text/plain": [
       "'D10'"
      ]
     },
     "execution_count": 15,
     "metadata": {},
     "output_type": "execute_result"
    }
   ],
   "source": [
    "row2[2]"
   ]
  },
  {
   "cell_type": "markdown",
   "metadata": {
    "slideshow": {
     "slide_type": "slide"
    }
   },
   "source": [
    "## Quick computation of basic statistical quantities"
   ]
  },
  {
   "cell_type": "markdown",
   "metadata": {},
   "source": [
    "**Note:** Depending on whether you have renamed the channels or not, you might have to substitute the following\n",
    "strings in the column names _(no renaming -> renamed)_:\n",
    "```\n",
    "A02_C01 -> DAPI\n",
    "A01_C02 -> Succs\n",
    "A01_C03 -> Yap\n",
    "A02_C04 -> marker\n",
    "```"
   ]
  },
  {
   "cell_type": "markdown",
   "metadata": {
    "slideshow": {
     "slide_type": "slide"
    }
   },
   "source": [
    "A `DataFrame`'s `.describe()` method provides a quick statistical summary of the data (but only for *continuous* variables):"
   ]
  },
  {
   "cell_type": "code",
   "execution_count": 16,
   "metadata": {
    "scrolled": true
   },
   "outputs": [
    {
     "name": "stdout",
     "output_type": "stream",
     "text": [
      "count    30764.000000\n",
      "mean       183.510022\n",
      "std         16.797994\n",
      "min        107.724627\n",
      "25%        172.740721\n",
      "50%        182.523436\n",
      "75%        193.056764\n",
      "max        367.000000\n",
      "Name: Intensity_mean_A01_C03, dtype: float64\n"
     ]
    }
   ],
   "source": [
    "stat = fv10['Intensity_mean_A01_C03'].describe()\n",
    "\n",
    "print(stat)"
   ]
  },
  {
   "cell_type": "markdown",
   "metadata": {
    "slideshow": {
     "slide_type": "slide"
    }
   },
   "source": [
    "Note that the value returned by `.describe()` is again a kind of \"row\" object, and you can access individual fields with the `[]` operator:"
   ]
  },
  {
   "cell_type": "code",
   "execution_count": 17,
   "metadata": {},
   "outputs": [
    {
     "data": {
      "text/plain": [
       "200.3080152385092"
      ]
     },
     "execution_count": 17,
     "metadata": {},
     "output_type": "execute_result"
    }
   ],
   "source": [
    "stat['mean'] + stat['std']"
   ]
  },
  {
   "cell_type": "markdown",
   "metadata": {
    "slideshow": {
     "slide_type": "slide"
    }
   },
   "source": [
    "You can compute the very same values (and many others!) by directly applying a NumPy function to the column:"
   ]
  },
  {
   "cell_type": "code",
   "execution_count": 18,
   "metadata": {},
   "outputs": [
    {
     "data": {
      "text/plain": [
       "182.523436"
      ]
     },
     "execution_count": 18,
     "metadata": {},
     "output_type": "execute_result"
    }
   ],
   "source": [
    "# compute the median\n",
    "np.median(fv10['Intensity_mean_A01_C03'])"
   ]
  },
  {
   "cell_type": "code",
   "execution_count": 19,
   "metadata": {},
   "outputs": [
    {
     "data": {
      "text/plain": [
       "5.20817002879652"
      ]
     },
     "execution_count": 19,
     "metadata": {},
     "output_type": "execute_result"
    }
   ],
   "source": [
    "# compute the average of the log intensity\n",
    "np.mean(np.log(fv10['Intensity_mean_A01_C03']))"
   ]
  },
  {
   "cell_type": "markdown",
   "metadata": {
    "slideshow": {
     "slide_type": "slide"
    }
   },
   "source": [
    "Note that if a categorical variable (e.g., a yes/no flag) is encoded using numerical values (e.g., `0` and `1`), then PanDas will still happily provide a statistical summary, like it were a continuous variable, but it will *not* be much useful:"
   ]
  },
  {
   "cell_type": "code",
   "execution_count": 20,
   "metadata": {},
   "outputs": [
    {
     "data": {
      "text/plain": [
       "count    30764.000000\n",
       "mean         0.150338\n",
       "std          0.357408\n",
       "min          0.000000\n",
       "25%          0.000000\n",
       "50%          0.000000\n",
       "75%          0.000000\n",
       "max          1.000000\n",
       "Name: TPlus, dtype: float64"
      ]
     },
     "execution_count": 20,
     "metadata": {},
     "output_type": "execute_result"
    }
   ],
   "source": [
    "md10['TPlus'].describe()"
   ]
  },
  {
   "cell_type": "markdown",
   "metadata": {
    "slideshow": {
     "slide_type": "slide"
    }
   },
   "source": [
    "-----"
   ]
  },
  {
   "cell_type": "markdown",
   "metadata": {
    "slideshow": {
     "slide_type": "skip"
    }
   },
   "source": [
    "## Exercise 1.\n",
    "\n",
    "Load \"metadata\" files into tables `md07`, `md08`, `md09`, and `md10`.\n",
    "\n",
    "Then load \"feature values\" files into tables `fv07`, `fv08`, `fv09`, and `fv10`.\n",
    "\n",
    "How many rows are in each table?"
   ]
  },
  {
   "cell_type": "code",
   "execution_count": 21,
   "metadata": {
    "slideshow": {
     "slide_type": "skip"
    }
   },
   "outputs": [],
   "source": [
    "# \"metadata\" file for other wells\n",
    "md07 = pd.read_csv(\"BIO325_CRISPR_Yap_p1_D07_Cells_metadata.csv\")\n",
    "md08 = pd.read_csv(\"BIO325_CRISPR_Yap_p1_D08_Cells_metadata.csv\")\n",
    "md09 = pd.read_csv(\"BIO325_CRISPR_Yap_p1_D09_Cells_metadata.csv\")"
   ]
  },
  {
   "cell_type": "code",
   "execution_count": 22,
   "metadata": {},
   "outputs": [],
   "source": [
    "# \"feature values\" for well D10\n",
    "fv07 = pd.read_csv('BIO325_CRISPR_Yap_p1_D07_Cells_feature-values.csv')\n",
    "fv08 = pd.read_csv('BIO325_CRISPR_Yap_p1_D08_Cells_feature-values.csv')\n",
    "fv09 = pd.read_csv('BIO325_CRISPR_Yap_p1_D09_Cells_feature-values.csv')"
   ]
  },
  {
   "cell_type": "markdown",
   "metadata": {},
   "source": [
    "Now the number of rows is the first item in the `.shape` tuple. For instance, the following shows that `md07` has 22808 rows:"
   ]
  },
  {
   "cell_type": "code",
   "execution_count": 23,
   "metadata": {},
   "outputs": [
    {
     "data": {
      "text/plain": [
       "(22808, 11)"
      ]
     },
     "execution_count": 23,
     "metadata": {},
     "output_type": "execute_result"
    }
   ],
   "source": [
    "md07.shape"
   ]
  },
  {
   "cell_type": "markdown",
   "metadata": {},
   "source": [
    "So we can get the number of rows in each metadata and features table:"
   ]
  },
  {
   "cell_type": "code",
   "execution_count": 24,
   "metadata": {},
   "outputs": [
    {
     "name": "stdout",
     "output_type": "stream",
     "text": [
      "22808 26712 20284 30764\n"
     ]
    }
   ],
   "source": [
    "print (md07.shape[0], md08.shape[0], md09.shape[0], md10.shape[0])"
   ]
  },
  {
   "cell_type": "code",
   "execution_count": 25,
   "metadata": {},
   "outputs": [
    {
     "name": "stdout",
     "output_type": "stream",
     "text": [
      "22808 26712 20284 30764\n"
     ]
    }
   ],
   "source": [
    "print (fv07.shape[0], fv08.shape[0], fv09.shape[0], fv10.shape[0])"
   ]
  },
  {
   "cell_type": "markdown",
   "metadata": {},
   "source": [
    "### An alternate solution\n",
    "\n",
    "A better way is to store all tables of the same kind into an array -- this allows us to load a variable number of tables by changing a single parameter line and avoids duplicating code.  Since the file names are regular, we just need to interpolate the well name into the file name template.\n"
   ]
  },
  {
   "cell_type": "code",
   "execution_count": 26,
   "metadata": {},
   "outputs": [
    {
     "name": "stdout",
     "output_type": "stream",
     "text": [
      "22808\n",
      "26712\n",
      "20284\n",
      "30764\n"
     ]
    }
   ],
   "source": [
    "# accumulate all metadata tables into list `md`\n",
    "md = []\n",
    "for well_nr in [7, 8, 9, 10]:\n",
    "    filename = \"BIO325_CRISPR_Yap_p1_D%02d_Cells_metadata.csv\" % well_nr\n",
    "    table = pd.read_csv(filename)\n",
    "    md.append(table)\n",
    "\n",
    "# print the number of rows to cross-check\n",
    "for table in md:\n",
    "    print(table.shape[0])"
   ]
  },
  {
   "cell_type": "code",
   "execution_count": 27,
   "metadata": {},
   "outputs": [
    {
     "name": "stdout",
     "output_type": "stream",
     "text": [
      "22808\n",
      "26712\n",
      "20284\n",
      "30764\n"
     ]
    }
   ],
   "source": [
    "# accumulate all feature-value tables into list `fv`\n",
    "fv = []\n",
    "for well_nr in [7, 8, 9, 10]:\n",
    "    filename = \"BIO325_CRISPR_Yap_p1_D%02d_Cells_feature-values.csv\" % well_nr\n",
    "    table = pd.read_csv(filename)\n",
    "    fv.append(table)\n",
    "    \n",
    "# print the number of rows to cross-check\n",
    "for table in fv:\n",
    "    print(table.shape[0])"
   ]
  },
  {
   "cell_type": "markdown",
   "metadata": {
    "slideshow": {
     "slide_type": "skip"
    }
   },
   "source": [
    "## Exercise 2.\n",
    "\n",
    "What is the mean value of column `Intensity_mean_A01_C03` in each well?"
   ]
  },
  {
   "cell_type": "code",
   "execution_count": 28,
   "metadata": {
    "slideshow": {
     "slide_type": "skip"
    }
   },
   "outputs": [
    {
     "name": "stdout",
     "output_type": "stream",
     "text": [
      "178.42255450758492\n",
      "185.8060821058702\n",
      "179.5681108325277\n",
      "183.5100216211156\n"
     ]
    }
   ],
   "source": [
    "# use function `np.mean` to compute the mean value of a NumPy array\n",
    "for table in fv:\n",
    "    mean = np.mean(table['Intensity_mean_A01_C03']) \n",
    "    print(mean)"
   ]
  },
  {
   "cell_type": "markdown",
   "metadata": {
    "slideshow": {
     "slide_type": "skip"
    }
   },
   "source": [
    "## Exercise 3.\n",
    "\n",
    "How many unique values are in column `TPlus` in the metadata of each well?\n",
    "*(Requires some familiary with NumPy)*"
   ]
  },
  {
   "cell_type": "code",
   "execution_count": 29,
   "metadata": {
    "slideshow": {
     "slide_type": "skip"
    }
   },
   "outputs": [
    {
     "name": "stdout",
     "output_type": "stream",
     "text": [
      "2\n",
      "2\n",
      "2\n",
      "2\n"
     ]
    }
   ],
   "source": [
    "# use function `np.unique` to compute the distinct values of a NumPy array\n",
    "for table in md:\n",
    "    uniques = np.unique(table['TPlus'])\n",
    "    nr_uniques = len(uniques)\n",
    "    print(nr_uniques)"
   ]
  },
  {
   "cell_type": "markdown",
   "metadata": {
    "slideshow": {
     "slide_type": "skip"
    }
   },
   "source": [
    "## Exercise 4.\n",
    "\n",
    "The `is_border` column in a \"metadata\" table tells you whether a cell lies at the border of an acquisition site or not (1 = lies at the border, 0 = does not touch nor cross the border).\n",
    "\n",
    "Can you count the number of \"border\" cells in each well?"
   ]
  },
  {
   "cell_type": "code",
   "execution_count": 30,
   "metadata": {
    "slideshow": {
     "slide_type": "skip"
    }
   },
   "outputs": [
    {
     "name": "stdout",
     "output_type": "stream",
     "text": [
      "2197\n",
      "2282\n",
      "1884\n",
      "2500\n"
     ]
    }
   ],
   "source": [
    "# since the column values are either 0's or 1's, the count of 1's is exactly the sum of the column\n",
    "for table in md:\n",
    "    print(sum(table['is_border']))"
   ]
  },
  {
   "cell_type": "markdown",
   "metadata": {
    "slideshow": {
     "slide_type": "skip"
    }
   },
   "source": [
    "-----"
   ]
  },
  {
   "cell_type": "markdown",
   "metadata": {
    "slideshow": {
     "slide_type": "slide"
    }
   },
   "source": [
    "## Join tabular data\n",
    "\n",
    "There are two ways of joining tables:\n",
    "\n",
    "- we may want to \"stack\" one table on top of another: this is only possible if the tables have the same columns, and is accomplished with PanDas' function [concat()](https://pandas.pydata.org/pandas-docs/stable/merging.html#concatenating-objects), or\n",
    "\n",
    "- we may want to form a new table by \"joining\" rows that have some value (called a *key*) in common; this is accomplished by a `DataFrame` [`.merge()` method](https://pandas.pydata.org/pandas-docs/stable/generated/pandas.DataFrame.merge.html)"
   ]
  },
  {
   "cell_type": "markdown",
   "metadata": {
    "slideshow": {
     "slide_type": "slide"
    }
   },
   "source": [
    "### \"Stacking\" tables\n",
    "\n",
    "Stacking tables is accomplished with PanDas' function [concat()](https://pandas.pydata.org/pandas-docs/stable/merging.html#concatenating-objects), which takes a unique argument: a *list* of tables to stack one on top of the other."
   ]
  },
  {
   "cell_type": "code",
   "execution_count": 31,
   "metadata": {},
   "outputs": [],
   "source": [
    "md = pd.concat([md07, md08, md09, md10])"
   ]
  },
  {
   "cell_type": "code",
   "execution_count": 32,
   "metadata": {},
   "outputs": [],
   "source": [
    "fv = pd.concat([fv07, fv08, fv09, fv10])"
   ]
  },
  {
   "cell_type": "markdown",
   "metadata": {
    "slideshow": {
     "slide_type": "slide"
    }
   },
   "source": [
    "### Joining by rows\n",
    "\n",
    "The [`.merge()` method](https://pandas.pydata.org/pandas-docs/stable/generated/pandas.DataFrame.merge.html) allows making a new table out of two existing tables with a set of common columns.  The syntax is as follows:\n",
    "```\n",
    "new_table = table1.merge(table2, how, on=[list of column names])\n",
    "```\n",
    "\n",
    "For example:"
   ]
  },
  {
   "cell_type": "code",
   "execution_count": 33,
   "metadata": {},
   "outputs": [],
   "source": [
    "merged10 = md10.merge(fv10, how='inner', on=['mapobject_id'])"
   ]
  },
  {
   "cell_type": "code",
   "execution_count": 34,
   "metadata": {},
   "outputs": [
    {
     "data": {
      "text/html": [
       "<div>\n",
       "<style scoped>\n",
       "    .dataframe tbody tr th:only-of-type {\n",
       "        vertical-align: middle;\n",
       "    }\n",
       "\n",
       "    .dataframe tbody tr th {\n",
       "        vertical-align: top;\n",
       "    }\n",
       "\n",
       "    .dataframe thead th {\n",
       "        text-align: right;\n",
       "    }\n",
       "</style>\n",
       "<table border=\"1\" class=\"dataframe\">\n",
       "  <thead>\n",
       "    <tr style=\"text-align: right;\">\n",
       "      <th></th>\n",
       "      <th>mapobject_id</th>\n",
       "      <th>plate_name</th>\n",
       "      <th>well_name</th>\n",
       "      <th>well_pos_y</th>\n",
       "      <th>well_pos_x</th>\n",
       "      <th>tpoint</th>\n",
       "      <th>zplane</th>\n",
       "      <th>label</th>\n",
       "      <th>is_border</th>\n",
       "      <th>Classification-5</th>\n",
       "      <th>...</th>\n",
       "      <th>Texture_LBP-radius-5-26_A01_C03</th>\n",
       "      <th>Texture_LBP-radius-5-27_A01_C03</th>\n",
       "      <th>Texture_LBP-radius-5-28_A01_C03</th>\n",
       "      <th>Texture_LBP-radius-5-29_A01_C03</th>\n",
       "      <th>Texture_LBP-radius-5-30_A01_C03</th>\n",
       "      <th>Texture_LBP-radius-5-31_A01_C03</th>\n",
       "      <th>Texture_LBP-radius-5-32_A01_C03</th>\n",
       "      <th>Texture_LBP-radius-5-33_A01_C03</th>\n",
       "      <th>Texture_LBP-radius-5-34_A01_C03</th>\n",
       "      <th>Texture_LBP-radius-5-35_A01_C03</th>\n",
       "    </tr>\n",
       "  </thead>\n",
       "  <tbody>\n",
       "    <tr>\n",
       "      <th>0</th>\n",
       "      <td>491297</td>\n",
       "      <td>p1</td>\n",
       "      <td>D10</td>\n",
       "      <td>0</td>\n",
       "      <td>0</td>\n",
       "      <td>0</td>\n",
       "      <td>0</td>\n",
       "      <td>1</td>\n",
       "      <td>1</td>\n",
       "      <td>0.0</td>\n",
       "      <td>...</td>\n",
       "      <td>54.0</td>\n",
       "      <td>192.0</td>\n",
       "      <td>3.0</td>\n",
       "      <td>21.0</td>\n",
       "      <td>14.0</td>\n",
       "      <td>74.0</td>\n",
       "      <td>49.0</td>\n",
       "      <td>23.0</td>\n",
       "      <td>277.0</td>\n",
       "      <td>153.0</td>\n",
       "    </tr>\n",
       "    <tr>\n",
       "      <th>1</th>\n",
       "      <td>491298</td>\n",
       "      <td>p1</td>\n",
       "      <td>D10</td>\n",
       "      <td>0</td>\n",
       "      <td>0</td>\n",
       "      <td>0</td>\n",
       "      <td>0</td>\n",
       "      <td>2</td>\n",
       "      <td>1</td>\n",
       "      <td>0.0</td>\n",
       "      <td>...</td>\n",
       "      <td>120.0</td>\n",
       "      <td>370.0</td>\n",
       "      <td>21.0</td>\n",
       "      <td>67.0</td>\n",
       "      <td>67.0</td>\n",
       "      <td>192.0</td>\n",
       "      <td>155.0</td>\n",
       "      <td>75.0</td>\n",
       "      <td>675.0</td>\n",
       "      <td>472.0</td>\n",
       "    </tr>\n",
       "    <tr>\n",
       "      <th>2</th>\n",
       "      <td>491299</td>\n",
       "      <td>p1</td>\n",
       "      <td>D10</td>\n",
       "      <td>0</td>\n",
       "      <td>0</td>\n",
       "      <td>0</td>\n",
       "      <td>0</td>\n",
       "      <td>3</td>\n",
       "      <td>1</td>\n",
       "      <td>0.0</td>\n",
       "      <td>...</td>\n",
       "      <td>89.0</td>\n",
       "      <td>306.0</td>\n",
       "      <td>3.0</td>\n",
       "      <td>32.0</td>\n",
       "      <td>30.0</td>\n",
       "      <td>106.0</td>\n",
       "      <td>66.0</td>\n",
       "      <td>35.0</td>\n",
       "      <td>393.0</td>\n",
       "      <td>250.0</td>\n",
       "    </tr>\n",
       "    <tr>\n",
       "      <th>3</th>\n",
       "      <td>491300</td>\n",
       "      <td>p1</td>\n",
       "      <td>D10</td>\n",
       "      <td>0</td>\n",
       "      <td>0</td>\n",
       "      <td>0</td>\n",
       "      <td>0</td>\n",
       "      <td>4</td>\n",
       "      <td>1</td>\n",
       "      <td>0.0</td>\n",
       "      <td>...</td>\n",
       "      <td>69.0</td>\n",
       "      <td>212.0</td>\n",
       "      <td>3.0</td>\n",
       "      <td>23.0</td>\n",
       "      <td>19.0</td>\n",
       "      <td>81.0</td>\n",
       "      <td>42.0</td>\n",
       "      <td>12.0</td>\n",
       "      <td>234.0</td>\n",
       "      <td>153.0</td>\n",
       "    </tr>\n",
       "    <tr>\n",
       "      <th>4</th>\n",
       "      <td>491301</td>\n",
       "      <td>p1</td>\n",
       "      <td>D10</td>\n",
       "      <td>0</td>\n",
       "      <td>0</td>\n",
       "      <td>0</td>\n",
       "      <td>0</td>\n",
       "      <td>5</td>\n",
       "      <td>1</td>\n",
       "      <td>0.0</td>\n",
       "      <td>...</td>\n",
       "      <td>58.0</td>\n",
       "      <td>222.0</td>\n",
       "      <td>2.0</td>\n",
       "      <td>18.0</td>\n",
       "      <td>12.0</td>\n",
       "      <td>74.0</td>\n",
       "      <td>42.0</td>\n",
       "      <td>18.0</td>\n",
       "      <td>231.0</td>\n",
       "      <td>137.0</td>\n",
       "    </tr>\n",
       "  </tbody>\n",
       "</table>\n",
       "<p>5 rows × 215 columns</p>\n",
       "</div>"
      ],
      "text/plain": [
       "   mapobject_id plate_name well_name  well_pos_y  well_pos_x  tpoint  zplane  \\\n",
       "0        491297         p1       D10           0           0       0       0   \n",
       "1        491298         p1       D10           0           0       0       0   \n",
       "2        491299         p1       D10           0           0       0       0   \n",
       "3        491300         p1       D10           0           0       0       0   \n",
       "4        491301         p1       D10           0           0       0       0   \n",
       "\n",
       "   label  is_border  Classification-5               ...                 \\\n",
       "0      1          1               0.0               ...                  \n",
       "1      2          1               0.0               ...                  \n",
       "2      3          1               0.0               ...                  \n",
       "3      4          1               0.0               ...                  \n",
       "4      5          1               0.0               ...                  \n",
       "\n",
       "   Texture_LBP-radius-5-26_A01_C03  Texture_LBP-radius-5-27_A01_C03  \\\n",
       "0                             54.0                            192.0   \n",
       "1                            120.0                            370.0   \n",
       "2                             89.0                            306.0   \n",
       "3                             69.0                            212.0   \n",
       "4                             58.0                            222.0   \n",
       "\n",
       "   Texture_LBP-radius-5-28_A01_C03  Texture_LBP-radius-5-29_A01_C03  \\\n",
       "0                              3.0                             21.0   \n",
       "1                             21.0                             67.0   \n",
       "2                              3.0                             32.0   \n",
       "3                              3.0                             23.0   \n",
       "4                              2.0                             18.0   \n",
       "\n",
       "   Texture_LBP-radius-5-30_A01_C03  Texture_LBP-radius-5-31_A01_C03  \\\n",
       "0                             14.0                             74.0   \n",
       "1                             67.0                            192.0   \n",
       "2                             30.0                            106.0   \n",
       "3                             19.0                             81.0   \n",
       "4                             12.0                             74.0   \n",
       "\n",
       "   Texture_LBP-radius-5-32_A01_C03  Texture_LBP-radius-5-33_A01_C03  \\\n",
       "0                             49.0                             23.0   \n",
       "1                            155.0                             75.0   \n",
       "2                             66.0                             35.0   \n",
       "3                             42.0                             12.0   \n",
       "4                             42.0                             18.0   \n",
       "\n",
       "   Texture_LBP-radius-5-34_A01_C03  Texture_LBP-radius-5-35_A01_C03  \n",
       "0                            277.0                            153.0  \n",
       "1                            675.0                            472.0  \n",
       "2                            393.0                            250.0  \n",
       "3                            234.0                            153.0  \n",
       "4                            231.0                            137.0  \n",
       "\n",
       "[5 rows x 215 columns]"
      ]
     },
     "execution_count": 34,
     "metadata": {},
     "output_type": "execute_result"
    }
   ],
   "source": [
    "merged10.head()"
   ]
  },
  {
   "cell_type": "markdown",
   "metadata": {
    "slideshow": {
     "slide_type": "slide"
    }
   },
   "source": [
    "Parameter *how* has the following possible values:\n",
    "\n",
    "* `'inner'`: merge rows where both tables agree on the value of the common columns;\n",
    "* `'left'`: take _all_ rows from `table1`, fill in null values if there's no row in `table2` which agrees on the common columns;\n",
    "* `'right'`: same as `'left'` but with the roles of `table1` and `table2` interchanged;\n",
    "* `'outer'`: take _all_ rows, fill in null values when row of one table cannot be matched.\n",
    "\n",
    "If you know databases, this is exactly the same semantics of [SQL's JOIN keyword](https://www.w3schools.com/sql/sql_join.asp)"
   ]
  },
  {
   "cell_type": "markdown",
   "metadata": {
    "slideshow": {
     "slide_type": "slide"
    }
   },
   "source": [
    "## Make sub-tables\n",
    "\n",
    "The [`.loc[]` operator](https://pandas.pydata.org/pandas-docs/stable/generated/pandas.DataFrame.loc.html) can be used to extract sub-tables, by specifying the rows and columns to extract:\n",
    "```\n",
    "sub = data.loc[rows, columns]\n",
    "```\n",
    "here `rows` and `columns` can be:\n",
    "\n",
    "- *lists* of row numbers (e.g., `[1,2,3]`) or column names (e.g., `['a', 'c']`), \n",
    "- *ranges* (e.g., `1:10`),\n",
    "- or **selectors** (which we'll explain in a while)"
   ]
  },
  {
   "cell_type": "markdown",
   "metadata": {
    "slideshow": {
     "slide_type": "slide"
    }
   },
   "source": [
    "For example:"
   ]
  },
  {
   "cell_type": "code",
   "execution_count": 35,
   "metadata": {},
   "outputs": [
    {
     "data": {
      "text/html": [
       "<div>\n",
       "<style scoped>\n",
       "    .dataframe tbody tr th:only-of-type {\n",
       "        vertical-align: middle;\n",
       "    }\n",
       "\n",
       "    .dataframe tbody tr th {\n",
       "        vertical-align: top;\n",
       "    }\n",
       "\n",
       "    .dataframe thead th {\n",
       "        text-align: right;\n",
       "    }\n",
       "</style>\n",
       "<table border=\"1\" class=\"dataframe\">\n",
       "  <thead>\n",
       "    <tr style=\"text-align: right;\">\n",
       "      <th></th>\n",
       "      <th>well_name</th>\n",
       "      <th>label</th>\n",
       "      <th>is_border</th>\n",
       "    </tr>\n",
       "  </thead>\n",
       "  <tbody>\n",
       "    <tr>\n",
       "      <th>1</th>\n",
       "      <td>D10</td>\n",
       "      <td>2</td>\n",
       "      <td>1</td>\n",
       "    </tr>\n",
       "    <tr>\n",
       "      <th>3</th>\n",
       "      <td>D10</td>\n",
       "      <td>4</td>\n",
       "      <td>1</td>\n",
       "    </tr>\n",
       "    <tr>\n",
       "      <th>5</th>\n",
       "      <td>D10</td>\n",
       "      <td>6</td>\n",
       "      <td>1</td>\n",
       "    </tr>\n",
       "    <tr>\n",
       "      <th>7</th>\n",
       "      <td>D10</td>\n",
       "      <td>8</td>\n",
       "      <td>1</td>\n",
       "    </tr>\n",
       "  </tbody>\n",
       "</table>\n",
       "</div>"
      ],
      "text/plain": [
       "  well_name  label  is_border\n",
       "1       D10      2          1\n",
       "3       D10      4          1\n",
       "5       D10      6          1\n",
       "7       D10      8          1"
      ]
     },
     "execution_count": 35,
     "metadata": {},
     "output_type": "execute_result"
    }
   ],
   "source": [
    "md10.loc[[1,3,5,7], ['well_name', 'label', 'is_border']]"
   ]
  },
  {
   "cell_type": "markdown",
   "metadata": {},
   "source": [
    "**Note:** the `.loc[]` operator does *not copy* the table data -- so any modification to the sub-table will be reflected on the parent table.  Use `.loc[...].copy()` to create an independent sub-table."
   ]
  },
  {
   "cell_type": "markdown",
   "metadata": {
    "slideshow": {
     "slide_type": "slide"
    }
   },
   "source": [
    "## Selectors\n",
    "\n",
    "Selectors are logical expressions on a column (or row) of a table."
   ]
  },
  {
   "cell_type": "code",
   "execution_count": 36,
   "metadata": {},
   "outputs": [],
   "source": [
    "# select all objects in well D10 with numerical label 42\n",
    "label42 = (md10['label'] == 42)"
   ]
  },
  {
   "cell_type": "code",
   "execution_count": 37,
   "metadata": {},
   "outputs": [],
   "source": [
    "# select all objects whose mean intensity in the DAPI channel is over 1 sigma from the avg \n",
    "dapi_plus1s = (fv10['Nuclei_Intensity_mean_A02_C01'] > 259.69)"
   ]
  },
  {
   "cell_type": "markdown",
   "metadata": {
    "slideshow": {
     "slide_type": "slide"
    }
   },
   "source": [
    "You can use selectors to extract a sub-table out of an existing one."
   ]
  },
  {
   "cell_type": "code",
   "execution_count": 38,
   "metadata": {},
   "outputs": [],
   "source": [
    "# only data about cell labeled 42\n",
    "table_only_label42 = md10.loc[label42]"
   ]
  },
  {
   "cell_type": "code",
   "execution_count": 39,
   "metadata": {},
   "outputs": [
    {
     "data": {
      "text/plain": [
       "25"
      ]
     },
     "execution_count": 39,
     "metadata": {},
     "output_type": "execute_result"
    }
   ],
   "source": [
    "len(table_only_label42)"
   ]
  },
  {
   "cell_type": "code",
   "execution_count": 40,
   "metadata": {},
   "outputs": [
    {
     "data": {
      "text/html": [
       "<div>\n",
       "<style scoped>\n",
       "    .dataframe tbody tr th:only-of-type {\n",
       "        vertical-align: middle;\n",
       "    }\n",
       "\n",
       "    .dataframe tbody tr th {\n",
       "        vertical-align: top;\n",
       "    }\n",
       "\n",
       "    .dataframe thead th {\n",
       "        text-align: right;\n",
       "    }\n",
       "</style>\n",
       "<table border=\"1\" class=\"dataframe\">\n",
       "  <thead>\n",
       "    <tr style=\"text-align: right;\">\n",
       "      <th></th>\n",
       "      <th>mapobject_id</th>\n",
       "      <th>plate_name</th>\n",
       "      <th>well_name</th>\n",
       "      <th>well_pos_y</th>\n",
       "      <th>well_pos_x</th>\n",
       "      <th>tpoint</th>\n",
       "      <th>zplane</th>\n",
       "      <th>label</th>\n",
       "      <th>is_border</th>\n",
       "      <th>Classification-5</th>\n",
       "      <th>TPlus</th>\n",
       "    </tr>\n",
       "  </thead>\n",
       "  <tbody>\n",
       "    <tr>\n",
       "      <th>41</th>\n",
       "      <td>491338</td>\n",
       "      <td>p1</td>\n",
       "      <td>D10</td>\n",
       "      <td>0</td>\n",
       "      <td>0</td>\n",
       "      <td>0</td>\n",
       "      <td>0</td>\n",
       "      <td>42</td>\n",
       "      <td>0</td>\n",
       "      <td>0.0</td>\n",
       "      <td>0.0</td>\n",
       "    </tr>\n",
       "    <tr>\n",
       "      <th>1308</th>\n",
       "      <td>473939</td>\n",
       "      <td>p1</td>\n",
       "      <td>D10</td>\n",
       "      <td>0</td>\n",
       "      <td>1</td>\n",
       "      <td>0</td>\n",
       "      <td>0</td>\n",
       "      <td>42</td>\n",
       "      <td>0</td>\n",
       "      <td>0.0</td>\n",
       "      <td>0.0</td>\n",
       "    </tr>\n",
       "    <tr>\n",
       "      <th>2388</th>\n",
       "      <td>385439</td>\n",
       "      <td>p1</td>\n",
       "      <td>D10</td>\n",
       "      <td>0</td>\n",
       "      <td>2</td>\n",
       "      <td>0</td>\n",
       "      <td>0</td>\n",
       "      <td>42</td>\n",
       "      <td>0</td>\n",
       "      <td>0.0</td>\n",
       "      <td>0.0</td>\n",
       "    </tr>\n",
       "    <tr>\n",
       "      <th>3727</th>\n",
       "      <td>535524</td>\n",
       "      <td>p1</td>\n",
       "      <td>D10</td>\n",
       "      <td>0</td>\n",
       "      <td>3</td>\n",
       "      <td>0</td>\n",
       "      <td>0</td>\n",
       "      <td>42</td>\n",
       "      <td>0</td>\n",
       "      <td>0.0</td>\n",
       "      <td>0.0</td>\n",
       "    </tr>\n",
       "    <tr>\n",
       "      <th>5033</th>\n",
       "      <td>479076</td>\n",
       "      <td>p1</td>\n",
       "      <td>D10</td>\n",
       "      <td>0</td>\n",
       "      <td>4</td>\n",
       "      <td>0</td>\n",
       "      <td>0</td>\n",
       "      <td>42</td>\n",
       "      <td>0</td>\n",
       "      <td>0.0</td>\n",
       "      <td>0.0</td>\n",
       "    </tr>\n",
       "  </tbody>\n",
       "</table>\n",
       "</div>"
      ],
      "text/plain": [
       "      mapobject_id plate_name well_name  well_pos_y  well_pos_x  tpoint  \\\n",
       "41          491338         p1       D10           0           0       0   \n",
       "1308        473939         p1       D10           0           1       0   \n",
       "2388        385439         p1       D10           0           2       0   \n",
       "3727        535524         p1       D10           0           3       0   \n",
       "5033        479076         p1       D10           0           4       0   \n",
       "\n",
       "      zplane  label  is_border  Classification-5  TPlus  \n",
       "41         0     42          0               0.0    0.0  \n",
       "1308       0     42          0               0.0    0.0  \n",
       "2388       0     42          0               0.0    0.0  \n",
       "3727       0     42          0               0.0    0.0  \n",
       "5033       0     42          0               0.0    0.0  "
      ]
     },
     "execution_count": 40,
     "metadata": {},
     "output_type": "execute_result"
    }
   ],
   "source": [
    "table_only_label42.head()"
   ]
  },
  {
   "cell_type": "markdown",
   "metadata": {
    "slideshow": {
     "slide_type": "slide"
    }
   },
   "source": [
    "-----"
   ]
  },
  {
   "cell_type": "markdown",
   "metadata": {
    "slideshow": {
     "slide_type": "skip"
    }
   },
   "source": [
    "## Exercise 5. \n",
    "\n",
    "Make stacked tables:\n",
    "\n",
    "- `md`, combining metadata for all wells\n",
    "- `fv`, combining feature values for all wells"
   ]
  },
  {
   "cell_type": "code",
   "execution_count": 41,
   "metadata": {
    "slideshow": {
     "slide_type": "skip"
    }
   },
   "outputs": [],
   "source": [
    "md = pd.concat([md07, md08, md09, md10])"
   ]
  },
  {
   "cell_type": "code",
   "execution_count": 42,
   "metadata": {},
   "outputs": [],
   "source": [
    "fv = pd.concat([fv07, fv08, fv09, fv10])"
   ]
  },
  {
   "cell_type": "markdown",
   "metadata": {
    "slideshow": {
     "slide_type": "skip"
    }
   },
   "source": [
    "## Exercise 6.\n",
    "\n",
    "Make a single large table `all` by joining tables `md` and `fv` over the common column `mapobject_id`.\n",
    "\n",
    "How many rows are in the combined table?"
   ]
  },
  {
   "cell_type": "code",
   "execution_count": 43,
   "metadata": {
    "slideshow": {
     "slide_type": "skip"
    }
   },
   "outputs": [],
   "source": [
    "all = md.merge(fv, on=['mapobject_id'])"
   ]
  },
  {
   "cell_type": "code",
   "execution_count": 44,
   "metadata": {},
   "outputs": [
    {
     "data": {
      "text/plain": [
       "100568"
      ]
     },
     "execution_count": 44,
     "metadata": {},
     "output_type": "execute_result"
    }
   ],
   "source": [
    "all.shape[0]"
   ]
  },
  {
   "cell_type": "code",
   "execution_count": 45,
   "metadata": {},
   "outputs": [
    {
     "data": {
      "text/html": [
       "<div>\n",
       "<style scoped>\n",
       "    .dataframe tbody tr th:only-of-type {\n",
       "        vertical-align: middle;\n",
       "    }\n",
       "\n",
       "    .dataframe tbody tr th {\n",
       "        vertical-align: top;\n",
       "    }\n",
       "\n",
       "    .dataframe thead th {\n",
       "        text-align: right;\n",
       "    }\n",
       "</style>\n",
       "<table border=\"1\" class=\"dataframe\">\n",
       "  <thead>\n",
       "    <tr style=\"text-align: right;\">\n",
       "      <th></th>\n",
       "      <th>mapobject_id</th>\n",
       "      <th>plate_name</th>\n",
       "      <th>well_name</th>\n",
       "      <th>well_pos_y</th>\n",
       "      <th>well_pos_x</th>\n",
       "      <th>tpoint</th>\n",
       "      <th>zplane</th>\n",
       "      <th>label</th>\n",
       "      <th>is_border</th>\n",
       "      <th>Classification-5</th>\n",
       "      <th>...</th>\n",
       "      <th>Texture_LBP-radius-5-26_A01_C03</th>\n",
       "      <th>Texture_LBP-radius-5-27_A01_C03</th>\n",
       "      <th>Texture_LBP-radius-5-28_A01_C03</th>\n",
       "      <th>Texture_LBP-radius-5-29_A01_C03</th>\n",
       "      <th>Texture_LBP-radius-5-30_A01_C03</th>\n",
       "      <th>Texture_LBP-radius-5-31_A01_C03</th>\n",
       "      <th>Texture_LBP-radius-5-32_A01_C03</th>\n",
       "      <th>Texture_LBP-radius-5-33_A01_C03</th>\n",
       "      <th>Texture_LBP-radius-5-34_A01_C03</th>\n",
       "      <th>Texture_LBP-radius-5-35_A01_C03</th>\n",
       "    </tr>\n",
       "  </thead>\n",
       "  <tbody>\n",
       "    <tr>\n",
       "      <th>0</th>\n",
       "      <td>566404</td>\n",
       "      <td>p1</td>\n",
       "      <td>D07</td>\n",
       "      <td>0</td>\n",
       "      <td>0</td>\n",
       "      <td>0</td>\n",
       "      <td>0</td>\n",
       "      <td>1</td>\n",
       "      <td>1</td>\n",
       "      <td>0.0</td>\n",
       "      <td>...</td>\n",
       "      <td>52.0</td>\n",
       "      <td>133.0</td>\n",
       "      <td>1.0</td>\n",
       "      <td>20.0</td>\n",
       "      <td>21.0</td>\n",
       "      <td>72.0</td>\n",
       "      <td>46.0</td>\n",
       "      <td>22.0</td>\n",
       "      <td>214.0</td>\n",
       "      <td>153.0</td>\n",
       "    </tr>\n",
       "    <tr>\n",
       "      <th>1</th>\n",
       "      <td>566405</td>\n",
       "      <td>p1</td>\n",
       "      <td>D07</td>\n",
       "      <td>0</td>\n",
       "      <td>0</td>\n",
       "      <td>0</td>\n",
       "      <td>0</td>\n",
       "      <td>2</td>\n",
       "      <td>1</td>\n",
       "      <td>0.0</td>\n",
       "      <td>...</td>\n",
       "      <td>50.0</td>\n",
       "      <td>217.0</td>\n",
       "      <td>6.0</td>\n",
       "      <td>20.0</td>\n",
       "      <td>15.0</td>\n",
       "      <td>78.0</td>\n",
       "      <td>44.0</td>\n",
       "      <td>16.0</td>\n",
       "      <td>225.0</td>\n",
       "      <td>119.0</td>\n",
       "    </tr>\n",
       "    <tr>\n",
       "      <th>2</th>\n",
       "      <td>566406</td>\n",
       "      <td>p1</td>\n",
       "      <td>D07</td>\n",
       "      <td>0</td>\n",
       "      <td>0</td>\n",
       "      <td>0</td>\n",
       "      <td>0</td>\n",
       "      <td>3</td>\n",
       "      <td>1</td>\n",
       "      <td>0.0</td>\n",
       "      <td>...</td>\n",
       "      <td>100.0</td>\n",
       "      <td>404.0</td>\n",
       "      <td>5.0</td>\n",
       "      <td>54.0</td>\n",
       "      <td>27.0</td>\n",
       "      <td>171.0</td>\n",
       "      <td>83.0</td>\n",
       "      <td>38.0</td>\n",
       "      <td>489.0</td>\n",
       "      <td>309.0</td>\n",
       "    </tr>\n",
       "    <tr>\n",
       "      <th>3</th>\n",
       "      <td>566407</td>\n",
       "      <td>p1</td>\n",
       "      <td>D07</td>\n",
       "      <td>0</td>\n",
       "      <td>0</td>\n",
       "      <td>0</td>\n",
       "      <td>0</td>\n",
       "      <td>4</td>\n",
       "      <td>1</td>\n",
       "      <td>0.0</td>\n",
       "      <td>...</td>\n",
       "      <td>30.0</td>\n",
       "      <td>186.0</td>\n",
       "      <td>1.0</td>\n",
       "      <td>4.0</td>\n",
       "      <td>5.0</td>\n",
       "      <td>42.0</td>\n",
       "      <td>19.0</td>\n",
       "      <td>6.0</td>\n",
       "      <td>135.0</td>\n",
       "      <td>66.0</td>\n",
       "    </tr>\n",
       "    <tr>\n",
       "      <th>4</th>\n",
       "      <td>566408</td>\n",
       "      <td>p1</td>\n",
       "      <td>D07</td>\n",
       "      <td>0</td>\n",
       "      <td>0</td>\n",
       "      <td>0</td>\n",
       "      <td>0</td>\n",
       "      <td>5</td>\n",
       "      <td>1</td>\n",
       "      <td>0.0</td>\n",
       "      <td>...</td>\n",
       "      <td>65.0</td>\n",
       "      <td>246.0</td>\n",
       "      <td>3.0</td>\n",
       "      <td>24.0</td>\n",
       "      <td>22.0</td>\n",
       "      <td>94.0</td>\n",
       "      <td>46.0</td>\n",
       "      <td>37.0</td>\n",
       "      <td>259.0</td>\n",
       "      <td>185.0</td>\n",
       "    </tr>\n",
       "  </tbody>\n",
       "</table>\n",
       "<p>5 rows × 215 columns</p>\n",
       "</div>"
      ],
      "text/plain": [
       "   mapobject_id plate_name well_name  well_pos_y  well_pos_x  tpoint  zplane  \\\n",
       "0        566404         p1       D07           0           0       0       0   \n",
       "1        566405         p1       D07           0           0       0       0   \n",
       "2        566406         p1       D07           0           0       0       0   \n",
       "3        566407         p1       D07           0           0       0       0   \n",
       "4        566408         p1       D07           0           0       0       0   \n",
       "\n",
       "   label  is_border  Classification-5               ...                 \\\n",
       "0      1          1               0.0               ...                  \n",
       "1      2          1               0.0               ...                  \n",
       "2      3          1               0.0               ...                  \n",
       "3      4          1               0.0               ...                  \n",
       "4      5          1               0.0               ...                  \n",
       "\n",
       "   Texture_LBP-radius-5-26_A01_C03  Texture_LBP-radius-5-27_A01_C03  \\\n",
       "0                             52.0                            133.0   \n",
       "1                             50.0                            217.0   \n",
       "2                            100.0                            404.0   \n",
       "3                             30.0                            186.0   \n",
       "4                             65.0                            246.0   \n",
       "\n",
       "   Texture_LBP-radius-5-28_A01_C03  Texture_LBP-radius-5-29_A01_C03  \\\n",
       "0                              1.0                             20.0   \n",
       "1                              6.0                             20.0   \n",
       "2                              5.0                             54.0   \n",
       "3                              1.0                              4.0   \n",
       "4                              3.0                             24.0   \n",
       "\n",
       "   Texture_LBP-radius-5-30_A01_C03  Texture_LBP-radius-5-31_A01_C03  \\\n",
       "0                             21.0                             72.0   \n",
       "1                             15.0                             78.0   \n",
       "2                             27.0                            171.0   \n",
       "3                              5.0                             42.0   \n",
       "4                             22.0                             94.0   \n",
       "\n",
       "   Texture_LBP-radius-5-32_A01_C03  Texture_LBP-radius-5-33_A01_C03  \\\n",
       "0                             46.0                             22.0   \n",
       "1                             44.0                             16.0   \n",
       "2                             83.0                             38.0   \n",
       "3                             19.0                              6.0   \n",
       "4                             46.0                             37.0   \n",
       "\n",
       "   Texture_LBP-radius-5-34_A01_C03  Texture_LBP-radius-5-35_A01_C03  \n",
       "0                            214.0                            153.0  \n",
       "1                            225.0                            119.0  \n",
       "2                            489.0                            309.0  \n",
       "3                            135.0                             66.0  \n",
       "4                            259.0                            185.0  \n",
       "\n",
       "[5 rows x 215 columns]"
      ]
     },
     "execution_count": 45,
     "metadata": {},
     "output_type": "execute_result"
    }
   ],
   "source": [
    "all.head()"
   ]
  },
  {
   "cell_type": "markdown",
   "metadata": {
    "slideshow": {
     "slide_type": "skip"
    }
   },
   "source": [
    "## Exercise 7.\n",
    "\n",
    "Make a table `good` by extracting from `all` only rows which refer to objects that are *not* \"border\" objects.\n",
    "\n",
    "How many good objects are there?  \n",
    "\n",
    "*Bonus points:* could you compute this number from the selector alone?"
   ]
  },
  {
   "cell_type": "code",
   "execution_count": 46,
   "metadata": {
    "slideshow": {
     "slide_type": "skip"
    }
   },
   "outputs": [],
   "source": [
    "# select rows where `is_border` has value 0 (false = not a border obj)\n",
    "good_rows = (all['is_border'] == 0)\n",
    "\n",
    "# extract those rows into a new table\n",
    "good = all.loc[good_rows]"
   ]
  },
  {
   "cell_type": "code",
   "execution_count": 47,
   "metadata": {},
   "outputs": [
    {
     "data": {
      "text/plain": [
       "91705"
      ]
     },
     "execution_count": 47,
     "metadata": {},
     "output_type": "execute_result"
    }
   ],
   "source": [
    "good.shape[0]"
   ]
  },
  {
   "cell_type": "markdown",
   "metadata": {},
   "source": [
    "The number of \"good\" rows can be computed from the selector alone, without extracting the table; we use the trick from *Exercise 4.* that the number of 1's in a boolean array is just the sum of the whole array."
   ]
  },
  {
   "cell_type": "code",
   "execution_count": 48,
   "metadata": {},
   "outputs": [
    {
     "data": {
      "text/plain": [
       "91705"
      ]
     },
     "execution_count": 48,
     "metadata": {},
     "output_type": "execute_result"
    }
   ],
   "source": [
    "np.sum(good_rows)"
   ]
  },
  {
   "cell_type": "markdown",
   "metadata": {
    "slideshow": {
     "slide_type": "skip"
    }
   },
   "source": [
    "## Exercise 8.\n",
    "\n",
    "Make two tables `md0` and `md1` by splitting on the two values of column `TPlus` (`0` or `1`).\n",
    "What is the mean of column `Intensity_mean_A01_C03` in each table?  And the std deviation?"
   ]
  },
  {
   "cell_type": "code",
   "execution_count": 49,
   "metadata": {
    "slideshow": {
     "slide_type": "skip"
    }
   },
   "outputs": [],
   "source": [
    "# Note: we operate on the `good` table here, \n",
    "# as we do not want to include border (i.e., partially visible)\n",
    "# objects in our statistics\n",
    "\n",
    "tplus_is_0 = (good['TPlus'] == 0)\n",
    "tplus_is_1 = (good['TPlus'] == 1)\n",
    "\n",
    "md0 = good.loc[tplus_is_0]\n",
    "md1 = good.loc[tplus_is_1]"
   ]
  },
  {
   "cell_type": "markdown",
   "metadata": {},
   "source": [
    "We can now use `.describe()` to compute mean, std dev, etc. in one go."
   ]
  },
  {
   "cell_type": "code",
   "execution_count": 50,
   "metadata": {},
   "outputs": [],
   "source": [
    "stat0 = md0['Intensity_mean_A01_C03'].describe()"
   ]
  },
  {
   "cell_type": "code",
   "execution_count": 51,
   "metadata": {},
   "outputs": [
    {
     "name": "stdout",
     "output_type": "stream",
     "text": [
      "183.89377840683485 22.488723899288413\n"
     ]
    }
   ],
   "source": [
    "print(stat0['mean'], stat0['std'])"
   ]
  },
  {
   "cell_type": "code",
   "execution_count": 52,
   "metadata": {},
   "outputs": [],
   "source": [
    "stat1 = md1['Intensity_mean_A01_C03'].describe()"
   ]
  },
  {
   "cell_type": "code",
   "execution_count": 53,
   "metadata": {},
   "outputs": [
    {
     "name": "stdout",
     "output_type": "stream",
     "text": [
      "174.60323532584604 39.659659277943575\n"
     ]
    }
   ],
   "source": [
    "print(stat1['mean'], stat1['std'])"
   ]
  },
  {
   "cell_type": "markdown",
   "metadata": {
    "slideshow": {
     "slide_type": "skip"
    }
   },
   "source": [
    "-----"
   ]
  },
  {
   "cell_type": "markdown",
   "metadata": {
    "slideshow": {
     "slide_type": "slide"
    }
   },
   "source": [
    "# Plotting\n",
    "\n",
    "The [seaborn](https://seaborn.pydata.org/examples/index.html) library provides many convenient plotting functions; there are good chances that the plot you want to make is already implemented by Seaborn."
   ]
  },
  {
   "cell_type": "markdown",
   "metadata": {
    "slideshow": {
     "slide_type": "slide"
    }
   },
   "source": [
    "## Distribution plots (with kernel density estimates)\n",
    "\n",
    "Seaborn's function [distplot()](https://seaborn.pydata.org/generated/seaborn.distplot.html#seaborn.distplot) plots the frequency distribution of an array of values.\n",
    "\n",
    "The simplest use just passes an array of values (e.g., a `DataFrame` column) as the unique argument:"
   ]
  },
  {
   "cell_type": "code",
   "execution_count": 54,
   "metadata": {},
   "outputs": [
    {
     "data": {
      "text/plain": [
       "<matplotlib.axes._subplots.AxesSubplot at 0x7f6fa670ae48>"
      ]
     },
     "execution_count": 54,
     "metadata": {},
     "output_type": "execute_result"
    },
    {
     "data": {
      "image/png": "[encoded data removed]",
      "text/plain": [
       "<Figure size 432x288 with 1 Axes>"
      ]
     },
     "metadata": {
      "needs_background": "light"
     },
     "output_type": "display_data"
    }
   ],
   "source": [
    "sns.distplot(fv10['Intensity_mean_A01_C03'])"
   ]
  },
  {
   "cell_type": "markdown",
   "metadata": {
    "slideshow": {
     "slide_type": "slide"
    }
   },
   "source": [
    "The plot ink color can be specified with the additional parameter `color=`:"
   ]
  },
  {
   "cell_type": "code",
   "execution_count": 55,
   "metadata": {},
   "outputs": [
    {
     "data": {
      "text/plain": [
       "<matplotlib.axes._subplots.AxesSubplot at 0x7f6fa6714e10>"
      ]
     },
     "execution_count": 55,
     "metadata": {},
     "output_type": "execute_result"
    },
    {
     "data": {
      "image/png": "[encoded data removed]",
      "text/plain": [
       "<Figure size 432x288 with 1 Axes>"
      ]
     },
     "metadata": {
      "needs_background": "light"
     },
     "output_type": "display_data"
    }
   ],
   "source": [
    "sns.distplot(fv10['Nuclei_Intensity_mean_A02_C01'], color='orange')"
   ]
  },
  {
   "cell_type": "markdown",
   "metadata": {
    "slideshow": {
     "slide_type": "slide"
    }
   },
   "source": [
    "-----"
   ]
  },
  {
   "cell_type": "markdown",
   "metadata": {
    "slideshow": {
     "slide_type": "skip"
    }
   },
   "source": [
    "## Exercise 9.\n",
    "\n",
    "Make a distribution plots of the mean Intensity of the *Yap* channel for each of the wells D07, D08, D09, D10. Plot each well in a different color."
   ]
  },
  {
   "cell_type": "code",
   "execution_count": 56,
   "metadata": {},
   "outputs": [
    {
     "data": {
      "text/plain": [
       "Text(0.5,1,'D10')"
      ]
     },
     "execution_count": 56,
     "metadata": {},
     "output_type": "execute_result"
    },
    {
     "data": {
      "image/png": "[encoded data removed]",
      "text/plain": [
       "<Figure size 720x504 with 4 Axes>"
      ]
     },
     "metadata": {
      "needs_background": "light"
     },
     "output_type": "display_data"
    }
   ],
   "source": [
    "# initialize a 2x2 grid of plots\n",
    "fig, axes = plt.subplots(2, 2, figsize=[10, 7])\n",
    "\n",
    "# `axes` is the grid of plotting canvaes: axes[row][col]\n",
    "ul = axes[0][0]  # upper left\n",
    "ur = axes[0][1]  # upper right\n",
    "ll = axes[1][0]  # lower left\n",
    "lr = axes[1][1]  # lower right\n",
    "\n",
    "# the `sns.*plot()` functions require the drawing canvas as additional parameter `ax=`\n",
    "sns.distplot(fv07['Intensity_mean_A01_C03'], color='orange', ax=ul); ul.set_title(\"D07\")\n",
    "sns.distplot(fv08['Intensity_mean_A01_C03'], color='red', ax=ur); ur.set_title(\"D08\")\n",
    "sns.distplot(fv09['Intensity_mean_A01_C03'], color='green', ax=ll); ll.set_title(\"D09\")\n",
    "sns.distplot(fv10['Intensity_mean_A01_C03'], color='blue', ax=lr); lr.set_title(\"D10\")"
   ]
  },
  {
   "cell_type": "markdown",
   "metadata": {
    "slideshow": {
     "slide_type": "skip"
    }
   },
   "source": [
    "-----"
   ]
  },
  {
   "cell_type": "markdown",
   "metadata": {
    "slideshow": {
     "slide_type": "slide"
    }
   },
   "source": [
    "## Box plots\n",
    "\n",
    "Box plots are provided by [Seaborn function violinplot()](https://seaborn.pydata.org/generated/seaborn.boxplot.html#seaborn.violinplot).  The syntax of the `violinplot()` function we are going to use is the following:\n",
    "```\n",
    "boxplot(data=..., x=..., y=..., hue=...)\n",
    "```\n",
    "where the named arguments have the following meaning:\n",
    "- `data` is a table (PanDas `DataFrame`)\n",
    "- `x` is the *name of a column* of `data` where to draw the x-axis values from; this should be a categorical variable.\n",
    "- `y` is again the *name of a column* whose distribution detemines the parameters of the box and handles; `y` should name a continuous variable.\n",
    "\n",
    "The following are optional:\n",
    "- `hue` is again the *name of a column* of `data` (carrying a categorical variable): if supplied, for each value of `x`, a box+handles of a different color (\"hue\") will be drawn for each value of `hue`. In other words, by supplying `hue` you can make boxplots of 3D-data `(x,y,hue)`.\n",
    "- `ax` used for placing a plot on a specific \"subplot\""
   ]
  },
  {
   "cell_type": "code",
   "execution_count": 57,
   "metadata": {
    "slideshow": {
     "slide_type": "slide"
    }
   },
   "outputs": [
    {
     "data": {
      "text/plain": [
       "<matplotlib.axes._subplots.AxesSubplot at 0x7f6fa7230278>"
      ]
     },
     "execution_count": 57,
     "metadata": {},
     "output_type": "execute_result"
    },
    {
     "data": {
      "image/png": "[encoded data removed]",
      "text/plain": [
       "<Figure size 720x504 with 1 Axes>"
      ]
     },
     "metadata": {
      "needs_background": "light"
     },
     "output_type": "display_data"
    }
   ],
   "source": [
    "# Initialize the matplotlib figure\n",
    "fig, ax = plt.subplots(1, figsize=(10, 7))\n",
    "\n",
    "sns.boxplot(data=merged10, x='well_name', hue='TPlus', y='Intensity_mean_A01_C03', ax=ax)"
   ]
  },
  {
   "cell_type": "markdown",
   "metadata": {
    "slideshow": {
     "slide_type": "slide"
    }
   },
   "source": [
    "-----"
   ]
  },
  {
   "cell_type": "markdown",
   "metadata": {
    "slideshow": {
     "slide_type": "skip"
    }
   },
   "source": [
    "## Exercise 10.\n",
    "\n",
    "Make a 2x2 grid of plots, showing box plots of the mean Intensity of the *Yap* channel for each of the wells D07, D08, D09, D10."
   ]
  },
  {
   "cell_type": "code",
   "execution_count": 58,
   "metadata": {},
   "outputs": [
    {
     "data": {
      "text/plain": [
       "<matplotlib.axes._subplots.AxesSubplot at 0x7f6fa719dac8>"
      ]
     },
     "execution_count": 58,
     "metadata": {},
     "output_type": "execute_result"
    },
    {
     "data": {
      "image/png": "[encoded data removed]",
      "text/plain": [
       "<Figure size 720x504 with 1 Axes>"
      ]
     },
     "metadata": {
      "needs_background": "light"
     },
     "output_type": "display_data"
    }
   ],
   "source": [
    "# Initialize the matplotlib figure\n",
    "fig, ax = plt.subplots(1, figsize=(10, 7))\n",
    "\n",
    "# the `sns.*plot()` functions require the drawing canvas as additional parameter `ax=`\n",
    "sns.boxplot(data=good, x='well_name', y='Intensity_mean_A01_C03', hue='TPlus', ax=ax)"
   ]
  },
  {
   "cell_type": "markdown",
   "metadata": {
    "slideshow": {
     "slide_type": "skip"
    }
   },
   "source": [
    "-----"
   ]
  },
  {
   "cell_type": "markdown",
   "metadata": {
    "slideshow": {
     "slide_type": "slide"
    }
   },
   "source": [
    "## Violin plots\n",
    "\n",
    "Violin plots are provided by [Seaborn function violinplot()](https://seaborn.pydata.org/generated/seaborn.violinplot.html#seaborn.violinplot).  Producing a (useful) violin plot requires specifying quite some parameters; the syntax of the `violinplot()` function we are going to use is the following:\n",
    "```\n",
    "violinplot(data=..., x=..., y=..., hue=..., split=..., inner=...)\n",
    "```\n",
    "where the named arguments have the following meaning:\n",
    "- `data` is a table (PanDas `DataFrame`)\n",
    "- `x` is the *name of a column* of `data` where to draw the x-axis values from; this should be a categorical variable.\n",
    "- `y` is again the *name of a column* whose distribution will be plotted to make the countour of the \"violins\"; `y` should name a continuous variable."
   ]
  },
  {
   "cell_type": "markdown",
   "metadata": {
    "slideshow": {
     "slide_type": "slide"
    }
   },
   "source": [
    "The following are optional:\n",
    "- `hue` is again the *name of a column* of `data` (carrying a categorical variable): if supplied, for each value of `x`, a violin of a different color (\"hue\") will be drawn for each value of `hue`. In other words, by supplying `hue` you can make violin plots of 3D-data `(x,y,hue)`.\n",
    "- `split`: if `True` and `hue` is the name of a discrete variable with 2 values, then, for each `x`, each half of the violin plots the `y` values corresponding to the different `hue`.\n",
    "- `inner`: can be one of:\n",
    "  * `'quartiles'`: mark the quartiles of the distribution\n",
    "  * `'box'` make a miniature box plot inside the violin\n",
    "  * `'point'` mark each data point\n",
    "  * `None`: no inner decoration of the \"violins\""
   ]
  },
  {
   "cell_type": "code",
   "execution_count": 59,
   "metadata": {
    "slideshow": {
     "slide_type": "slide"
    }
   },
   "outputs": [
    {
     "data": {
      "text/plain": [
       "<matplotlib.axes._subplots.AxesSubplot at 0x7f6fa70b4e48>"
      ]
     },
     "execution_count": 59,
     "metadata": {},
     "output_type": "execute_result"
    },
    {
     "data": {
      "image/png": "[encoded data removed]",
      "text/plain": [
       "<Figure size 432x288 with 1 Axes>"
      ]
     },
     "metadata": {
      "needs_background": "light"
     },
     "output_type": "display_data"
    }
   ],
   "source": [
    "sns.violinplot(data=merged10, x='well_name', y='Intensity_mean_A01_C03', hue='TPlus')"
   ]
  },
  {
   "cell_type": "markdown",
   "metadata": {
    "slideshow": {
     "slide_type": "slide"
    }
   },
   "source": [
    "-----"
   ]
  },
  {
   "cell_type": "markdown",
   "metadata": {
    "slideshow": {
     "slide_type": "skip"
    }
   },
   "source": [
    "## Exercise 11.\n",
    "\n",
    "Make a violin plot comparing the distribution of *mean Intensity* for channel *A01_C03* side-by-side for cells with TPlus=0 and TPlus=1."
   ]
  },
  {
   "cell_type": "code",
   "execution_count": 60,
   "metadata": {},
   "outputs": [
    {
     "data": {
      "text/plain": [
       "<matplotlib.axes._subplots.AxesSubplot at 0x7f6fa701a278>"
      ]
     },
     "execution_count": 60,
     "metadata": {},
     "output_type": "execute_result"
    },
    {
     "data": {
      "image/png": "[encoded data removed]",
      "text/plain": [
       "<Figure size 720x504 with 1 Axes>"
      ]
     },
     "metadata": {
      "needs_background": "light"
     },
     "output_type": "display_data"
    }
   ],
   "source": [
    "# Initialize the matplotlib figure\n",
    "fig, ax = plt.subplots(1, figsize=(10, 7))\n",
    "\n",
    "sns.violinplot(data=merged10, x='well_name', y='Intensity_mean_A01_C03', hue='TPlus', split=True, ax=ax)"
   ]
  },
  {
   "cell_type": "markdown",
   "metadata": {
    "slideshow": {
     "slide_type": "skip"
    }
   },
   "source": [
    "## Exercise 12.\n",
    "\n",
    "Make a 2x2 grid of the above violin plots, allowing to compare across wells."
   ]
  },
  {
   "cell_type": "code",
   "execution_count": 61,
   "metadata": {},
   "outputs": [
    {
     "data": {
      "text/plain": [
       "<matplotlib.axes._subplots.AxesSubplot at 0x7f6fa6ff2f28>"
      ]
     },
     "execution_count": 61,
     "metadata": {},
     "output_type": "execute_result"
    },
    {
     "data": {
      "image/png": "[encoded data removed]",
      "text/plain": [
       "<Figure size 720x504 with 1 Axes>"
      ]
     },
     "metadata": {
      "needs_background": "light"
     },
     "output_type": "display_data"
    }
   ],
   "source": [
    "# Initialize the matplotlib figure\n",
    "fig, ax = plt.subplots(1, figsize=(10, 7))\n",
    "\n",
    "sns.violinplot(data=good, x='well_name', y='Intensity_mean_A01_C03', hue='TPlus', split=True, ax=ax)"
   ]
  },
  {
   "cell_type": "markdown",
   "metadata": {
    "slideshow": {
     "slide_type": "skip"
    }
   },
   "source": [
    "-----"
   ]
  }
 ],
 "metadata": {
  "anaconda-cloud": {},
  "kernelspec": {
   "display_name": "Python 3",
   "language": "python",
   "name": "python3"
  },
  "language_info": {
   "codemirror_mode": {
    "name": "ipython",
    "version": 3
   },
   "file_extension": ".py",
   "mimetype": "text/x-python",
   "name": "python",
   "nbconvert_exporter": "python",
   "pygments_lexer": "ipython3",
   "version": "3.7.0"
  }
 },
 "nbformat": 4,
 "nbformat_minor": 2
}
